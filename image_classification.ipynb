{
 "cells": [
  {
   "cell_type": "markdown",
   "metadata": {},
   "source": [
    "# Image Classification\n",
    "In this project, you'll classify images from the [CIFAR-10 dataset](https://www.cs.toronto.edu/~kriz/cifar.html).  The dataset consists of airplanes, dogs, cats, and other objects. You'll preprocess the images, then train a convolutional neural network on all the samples. The images need to be normalized and the labels need to be one-hot encoded.  You'll get to apply what you learned and build a convolutional, max pooling, dropout, and fully connected layers.  At the end, you'll get to see your neural network's predictions on the sample images.\n",
    "## Get the Data\n",
    "Run the following cell to download the [CIFAR-10 dataset for python](https://www.cs.toronto.edu/~kriz/cifar-10-python.tar.gz)."
   ]
  },
  {
   "cell_type": "code",
   "execution_count": 3,
   "metadata": {},
   "outputs": [
    {
     "name": "stdout",
     "output_type": "stream",
     "text": [
      "All files found!\n"
     ]
    }
   ],
   "source": [
    "\"\"\"\n",
    "DON'T MODIFY ANYTHING IN THIS CELL THAT IS BELOW THIS LINE\n",
    "\"\"\"\n",
    "from urllib.request import urlretrieve\n",
    "from os.path import isfile, isdir\n",
    "from tqdm import tqdm\n",
    "import problem_unittests as tests\n",
    "import tarfile\n",
    "\n",
    "cifar10_dataset_folder_path = 'cifar-10-batches-py'\n",
    "\n",
    "class DLProgress(tqdm):\n",
    "    last_block = 0\n",
    "\n",
    "    def hook(self, block_num=1, block_size=1, total_size=None):\n",
    "        self.total = total_size\n",
    "        self.update((block_num - self.last_block) * block_size)\n",
    "        self.last_block = block_num\n",
    "\n",
    "if not isfile('cifar-10-python.tar.gz'):\n",
    "    with DLProgress(unit='B', unit_scale=True, miniters=1, desc='CIFAR-10 Dataset') as pbar:\n",
    "        urlretrieve(\n",
    "            'https://www.cs.toronto.edu/~kriz/cifar-10-python.tar.gz',\n",
    "            'cifar-10-python.tar.gz',\n",
    "            pbar.hook)\n",
    "\n",
    "if not isdir(cifar10_dataset_folder_path):\n",
    "    with tarfile.open('cifar-10-python.tar.gz') as tar:\n",
    "        tar.extractall()\n",
    "        tar.close()\n",
    "\n",
    "\n",
    "tests.test_folder_path(cifar10_dataset_folder_path)"
   ]
  },
  {
   "cell_type": "markdown",
   "metadata": {},
   "source": [
    "## Explore the Data\n",
    "The dataset is broken into batches to prevent your machine from running out of memory.  The CIFAR-10 dataset consists of 5 batches, named `data_batch_1`, `data_batch_2`, etc.. Each batch contains the labels and images that are one of the following:\n",
    "* airplane\n",
    "* automobile\n",
    "* bird\n",
    "* cat\n",
    "* deer\n",
    "* dog\n",
    "* frog\n",
    "* horse\n",
    "* ship\n",
    "* truck\n",
    "\n",
    "Understanding a dataset is part of making predictions on the data.  Play around with the code cell below by changing the `batch_id` and `sample_id`. The `batch_id` is the id for a batch (1-5). The `sample_id` is the id for a image and label pair in the batch.\n",
    "\n",
    "Ask yourself \"What are all possible labels?\", \"What is the range of values for the image data?\", \"Are the labels in order or random?\".  Answers to questions like these will help you preprocess the data and end up with better predictions."
   ]
  },
  {
   "cell_type": "code",
   "execution_count": 4,
   "metadata": {},
   "outputs": [
    {
     "name": "stdout",
     "output_type": "stream",
     "text": [
      "\n",
      "Stats of batch 3:\n",
      "Samples: 10000\n",
      "Label Counts: {0: 994, 1: 1042, 2: 965, 3: 997, 4: 990, 5: 1029, 6: 978, 7: 1015, 8: 961, 9: 1029}\n",
      "First 20 Labels: [8, 5, 0, 6, 9, 2, 8, 3, 6, 2, 7, 4, 6, 9, 0, 0, 7, 3, 7, 2]\n",
      "\n",
      "Example of Image 1000:\n",
      "Image - Min Value: 37 Max Value: 230\n",
      "Image - Shape: (32, 32, 3)\n",
      "Label - Label Id: 0 Name: airplane\n"
     ]
    },
    {
     "data": {
      "image/png": "[encoded data removed]",
      "text/plain": [
       "<matplotlib.figure.Figure at 0x101857f0>"
      ]
     },
     "metadata": {
      "image/png": {
       "height": 250,
       "width": 253
      }
     },
     "output_type": "display_data"
    }
   ],
   "source": [
    "%matplotlib inline\n",
    "%config InlineBackend.figure_format = 'retina'\n",
    "\n",
    "import helper\n",
    "import numpy as np\n",
    "\n",
    "# Explore the dataset\n",
    "batch_id = 3\n",
    "sample_id = 1000\n",
    "helper.display_stats(cifar10_dataset_folder_path, batch_id, sample_id)"
   ]
  },
  {
   "cell_type": "markdown",
   "metadata": {},
   "source": [
    "## Implement Preprocess Functions\n",
    "### Normalize\n",
    "In the cell below, implement the `normalize` function to take in image data, `x`, and return it as a normalized Numpy array. The values should be in the range of 0 to 1, inclusive.  The return object should be the same shape as `x`."
   ]
  },
  {
   "cell_type": "code",
   "execution_count": 5,
   "metadata": {},
   "outputs": [
    {
     "name": "stdout",
     "output_type": "stream",
     "text": [
      "Tests Passed\n"
     ]
    }
   ],
   "source": [
    "def normalize(x):\n",
    "    \"\"\"\n",
    "    Normalize a list of sample image data in the range of 0 to 1\n",
    "    : x: List of image data.  The image shape is (32, 32, 3)\n",
    "    : return: Numpy array of normalize data\n",
    "    \"\"\"\n",
    "    return np.array(x / 255)\n",
    "\n",
    "\n",
    "\"\"\"\n",
    "DON'T MODIFY ANYTHING IN THIS CELL THAT IS BELOW THIS LINE\n",
    "\"\"\"\n",
    "tests.test_normalize(normalize)"
   ]
  },
  {
   "cell_type": "markdown",
   "metadata": {},
   "source": [
    "### One-hot encode\n",
    "Just like the previous code cell, you'll be implementing a function for preprocessing.  This time, you'll implement the `one_hot_encode` function. The input, `x`, are a list of labels.  Implement the function to return the list of labels as One-Hot encoded Numpy array.  The possible values for labels are 0 to 9. The one-hot encoding function should return the same encoding for each value between each call to `one_hot_encode`.  Make sure to save the map of encodings outside the function.\n",
    "\n",
    "**Hint:**\n",
    "\n",
    "Look into LabelBinarizer in the preprocessing module of sklearn."
   ]
  },
  {
   "cell_type": "code",
   "execution_count": 6,
   "metadata": {},
   "outputs": [
    {
     "name": "stdout",
     "output_type": "stream",
     "text": [
      "Tests Passed\n"
     ]
    }
   ],
   "source": [
    "from sklearn.preprocessing import OneHotEncoder\n",
    "\n",
    "encoded_labels = {}\n",
    "\n",
    "def one_hot_encode(x):\n",
    "    \"\"\"\n",
    "    One hot encode a list of sample labels. Return a one-hot encoded vector for each label.\n",
    "    : x: List of sample Labels\n",
    "    : return: Numpy array of one-hot encoded labels\n",
    "    \"\"\"\n",
    "    return encode_helper(x, 10)\n",
    "\n",
    "def encode_helper(x, n_values):\n",
    "    enc = OneHotEncoder(n_values)    \n",
    "    encoded_labels = enc.fit_transform(np.array(x).reshape(-1,1)).toarray()\n",
    "    return encoded_labels\n",
    "\n",
    "\"\"\"\n",
    "DON'T MODIFY ANYTHING IN THIS CELL THAT IS BELOW THIS LINE\n",
    "\"\"\"\n",
    "tests.test_one_hot_encode(one_hot_encode)"
   ]
  },
  {
   "cell_type": "markdown",
   "metadata": {},
   "source": [
    "### Randomize Data\n",
    "As you saw from exploring the data above, the order of the samples are randomized.  It doesn't hurt to randomize it again, but you don't need to for this dataset."
   ]
  },
  {
   "cell_type": "markdown",
   "metadata": {},
   "source": [
    "## Preprocess all the data and save it\n",
    "Running the code cell below will preprocess all the CIFAR-10 data and save it to file. The code below also uses 10% of the training data for validation."
   ]
  },
  {
   "cell_type": "code",
   "execution_count": 7,
   "metadata": {},
   "outputs": [],
   "source": [
    "\"\"\"\n",
    "DON'T MODIFY ANYTHING IN THIS CELL\n",
    "\"\"\"\n",
    "# Preprocess Training, Validation, and Testing Data\n",
    "helper.preprocess_and_save_data(cifar10_dataset_folder_path, normalize, one_hot_encode)"
   ]
  },
  {
   "cell_type": "markdown",
   "metadata": {},
   "source": [
    "# Check Point\n",
    "This is your first checkpoint.  If you ever decide to come back to this notebook or have to restart the notebook, you can start from here.  The preprocessed data has been saved to disk."
   ]
  },
  {
   "cell_type": "code",
   "execution_count": 8,
   "metadata": {},
   "outputs": [],
   "source": [
    "\"\"\"\n",
    "DON'T MODIFY ANYTHING IN THIS CELL\n",
    "\"\"\"\n",
    "import pickle\n",
    "import problem_unittests as tests\n",
    "import helper\n",
    "\n",
    "# Load the Preprocessed Validation data\n",
    "valid_features, valid_labels = pickle.load(open('preprocess_validation.p', mode='rb'))"
   ]
  },
  {
   "cell_type": "markdown",
   "metadata": {},
   "source": [
    "## Build the network\n",
    "For the neural network, you'll build each layer into a function.  Most of the code you've seen has been outside of functions. To test your code more thoroughly, we require that you put each layer in a function.  This allows us to give you better feedback and test for simple mistakes using our unittests before you submit your project.\n",
    "\n",
    ">**Note:** If you're finding it hard to dedicate enough time for this course each week, we've provided a small shortcut to this part of the project. In the next couple of problems, you'll have the option to use classes from the [TensorFlow Layers](https://www.tensorflow.org/api_docs/python/tf/layers) or [TensorFlow Layers (contrib)](https://www.tensorflow.org/api_guides/python/contrib.layers) packages to build each layer, except the layers you build in the \"Convolutional and Max Pooling Layer\" section.  TF Layers is similar to Keras's and TFLearn's abstraction to layers, so it's easy to pickup.\n",
    "\n",
    ">However, if you would like to get the most out of this course, try to solve all the problems _without_ using anything from the TF Layers packages. You **can** still use classes from other packages that happen to have the same name as ones you find in TF Layers! For example, instead of using the TF Layers version of the `conv2d` class, [tf.layers.conv2d](https://www.tensorflow.org/api_docs/python/tf/layers/conv2d), you would want to use the TF Neural Network version of `conv2d`, [tf.nn.conv2d](https://www.tensorflow.org/api_docs/python/tf/nn/conv2d). \n",
    "\n",
    "Let's begin!\n",
    "\n",
    "### Input\n",
    "The neural network needs to read the image data, one-hot encoded labels, and dropout keep probability. Implement the following functions\n",
    "* Implement `neural_net_image_input`\n",
    " * Return a [TF Placeholder](https://www.tensorflow.org/api_docs/python/tf/placeholder)\n",
    " * Set the shape using `image_shape` with batch size set to `None`.\n",
    " * Name the TensorFlow placeholder \"x\" using the TensorFlow `name` parameter in the [TF Placeholder](https://www.tensorflow.org/api_docs/python/tf/placeholder).\n",
    "* Implement `neural_net_label_input`\n",
    " * Return a [TF Placeholder](https://www.tensorflow.org/api_docs/python/tf/placeholder)\n",
    " * Set the shape using `n_classes` with batch size set to `None`.\n",
    " * Name the TensorFlow placeholder \"y\" using the TensorFlow `name` parameter in the [TF Placeholder](https://www.tensorflow.org/api_docs/python/tf/placeholder).\n",
    "* Implement `neural_net_keep_prob_input`\n",
    " * Return a [TF Placeholder](https://www.tensorflow.org/api_docs/python/tf/placeholder) for dropout keep probability.\n",
    " * Name the TensorFlow placeholder \"keep_prob\" using the TensorFlow `name` parameter in the [TF Placeholder](https://www.tensorflow.org/api_docs/python/tf/placeholder).\n",
    "\n",
    "These names will be used at the end of the project to load your saved model.\n",
    "\n",
    "Note: `None` for shapes in TensorFlow allow for a dynamic size."
   ]
  },
  {
   "cell_type": "code",
   "execution_count": 9,
   "metadata": {},
   "outputs": [
    {
     "name": "stdout",
     "output_type": "stream",
     "text": [
      "Image Input Tests Passed.\n",
      "Label Input Tests Passed.\n",
      "Keep Prob Tests Passed.\n"
     ]
    }
   ],
   "source": [
    "import tensorflow as tf\n",
    "\n",
    "def neural_net_image_input(image_shape):\n",
    "    \"\"\"\n",
    "    Return a Tensor for a batch of image input\n",
    "    : image_shape: Shape of the images\n",
    "    : return: Tensor for image input.\n",
    "    \"\"\"\n",
    "    shape = [None]\n",
    "    shape.extend(image_shape)\n",
    "    return tf.placeholder(tf.float32, shape=shape, name='x')\n",
    "\n",
    "def neural_net_label_input(n_classes):\n",
    "    \"\"\"\n",
    "    Return a Tensor for a batch of label input\n",
    "    : n_classes: Number of classes\n",
    "    : return: Tensor for label input.\n",
    "    \"\"\"\n",
    "    return tf.placeholder(tf.float32, shape=(None, n_classes), name='y')\n",
    "\n",
    "\n",
    "def neural_net_keep_prob_input():\n",
    "    \"\"\"\n",
    "    Return a Tensor for keep probability\n",
    "    : return: Tensor for keep probability.\n",
    "    \"\"\"\n",
    "    return tf.placeholder(tf.float32, name='keep_prob')\n",
    "\n",
    "\n",
    "\"\"\"\n",
    "DON'T MODIFY ANYTHING IN THIS CELL THAT IS BELOW THIS LINE\n",
    "\"\"\"\n",
    "tf.reset_default_graph()\n",
    "tests.test_nn_image_inputs(neural_net_image_input)\n",
    "tests.test_nn_label_inputs(neural_net_label_input)\n",
    "tests.test_nn_keep_prob_inputs(neural_net_keep_prob_input)"
   ]
  },
  {
   "cell_type": "markdown",
   "metadata": {},
   "source": [
    "### Convolution and Max Pooling Layer\n",
    "Convolution layers have a lot of success with images. For this code cell, you should implement the function `conv2d_maxpool` to apply convolution then max pooling:\n",
    "* Create the weight and bias using `conv_ksize`, `conv_num_outputs` and the shape of `x_tensor`.\n",
    "* Apply a convolution to `x_tensor` using weight and `conv_strides`.\n",
    " * We recommend you use same padding, but you're welcome to use any padding.\n",
    "* Add bias\n",
    "* Add a nonlinear activation to the convolution.\n",
    "* Apply Max Pooling using `pool_ksize` and `pool_strides`.\n",
    " * We recommend you use same padding, but you're welcome to use any padding.\n",
    "\n",
    "**Note:** You **can't** use [TensorFlow Layers](https://www.tensorflow.org/api_docs/python/tf/layers) or [TensorFlow Layers (contrib)](https://www.tensorflow.org/api_guides/python/contrib.layers) for **this** layer, but you can still use TensorFlow's [Neural Network](https://www.tensorflow.org/api_docs/python/tf/nn) package. You may still use the shortcut option for all the **other** layers.\n",
    "\n",
    "** Hint: **\n",
    "\n",
    "When unpacking values as an argument in Python, look into the [unpacking](https://docs.python.org/3/tutorial/controlflow.html#unpacking-argument-lists) operator. "
   ]
  },
  {
   "cell_type": "code",
   "execution_count": 10,
   "metadata": {},
   "outputs": [
    {
     "name": "stdout",
     "output_type": "stream",
     "text": [
      "Tests Passed\n"
     ]
    }
   ],
   "source": [
    "def conv2d_maxpool(x_tensor, conv_num_outputs, conv_ksize, conv_strides, pool_ksize, pool_strides):\n",
    "    \"\"\"\n",
    "    Apply convolution then max pooling to x_tensor\n",
    "    :param x_tensor: TensorFlow Tensor\n",
    "    :param conv_num_outputs: Number of outputs for the convolutional layer\n",
    "    :param conv_ksize: kernal size 2-D Tuple for the convolutional layer\n",
    "    :param conv_strides: Stride 2-D Tuple for convolution\n",
    "    :param pool_ksize: kernal size 2-D Tuple for pool\n",
    "    :param pool_strides: Stride 2-D Tuple for pool\n",
    "    : return: A tensor that represents convolution and max pooling of x_tensor\n",
    "    \"\"\"\n",
    "    \n",
    "    depth = x_tensor.get_shape().as_list()[3]\n",
    "    weight =tf.Variable(tf.truncated_normal([*conv_ksize, depth, conv_num_outputs], stddev=0.01))\n",
    "    bias = tf.Variable(tf.zeros(conv_num_outputs, dtype=tf.float32))\n",
    "    \n",
    "    padding = 'SAME'\n",
    "    \n",
    "    # 2D Convolution Layer.\n",
    "    strides = [1, conv_strides[0], conv_strides[1], 1]\n",
    "    conv_layer = tf.nn.conv2d(x_tensor, weight, strides=strides, padding=padding)\n",
    "    conv_layer = tf.nn.bias_add(conv_layer, bias)\n",
    "    conv_layer = tf.nn.relu(conv_layer)\n",
    "    \n",
    "    # Applying Max Pooling\n",
    "    conv_layer = tf.nn.max_pool(conv_layer, ksize=[1, pool_ksize[0], pool_ksize[1], 1], \n",
    "                            strides=[1, pool_strides[0], pool_strides[1], 1], padding=padding)  \n",
    "    return conv_layer \n",
    "\n",
    "\n",
    "\"\"\"\n",
    "DON'T MODIFY ANYTHING IN THIS CELL THAT IS BELOW THIS LINE\n",
    "\"\"\"\n",
    "tests.test_con_pool(conv2d_maxpool)"
   ]
  },
  {
   "cell_type": "markdown",
   "metadata": {},
   "source": [
    "### Flatten Layer\n",
    "Implement the `flatten` function to change the dimension of `x_tensor` from a 4-D tensor to a 2-D tensor.  The output should be the shape (*Batch Size*, *Flattened Image Size*). Shortcut option: you can use classes from the [TensorFlow Layers](https://www.tensorflow.org/api_docs/python/tf/layers) or [TensorFlow Layers (contrib)](https://www.tensorflow.org/api_guides/python/contrib.layers) packages for this layer. For more of a challenge, only use other TensorFlow packages."
   ]
  },
  {
   "cell_type": "code",
   "execution_count": 14,
   "metadata": {},
   "outputs": [
    {
     "name": "stdout",
     "output_type": "stream",
     "text": [
      "Tests Passed\n"
     ]
    }
   ],
   "source": [
    "def flatten(x_tensor):\n",
    "    \"\"\"\n",
    "    Flatten x_tensor to (Batch Size, Flattened Image Size)\n",
    "    : x_tensor: A tensor of size (Batch Size, ...), where ... are the image dimensions.\n",
    "    : return: A tensor of size (Batch Size, Flattened Image Size).\n",
    "    \"\"\"\n",
    "    return tf.contrib.layers.flatten(x_tensor, outputs_collections=None, scope=None)\n",
    "\n",
    "\n",
    "\"\"\"\n",
    "DON'T MODIFY ANYTHING IN THIS CELL THAT IS BELOW THIS LINE\n",
    "\"\"\"\n",
    "tests.test_flatten(flatten)"
   ]
  },
  {
   "cell_type": "markdown",
   "metadata": {},
   "source": [
    "### Fully-Connected Layer\n",
    "Implement the `fully_conn` function to apply a fully connected layer to `x_tensor` with the shape (*Batch Size*, *num_outputs*). Shortcut option: you can use classes from the [TensorFlow Layers](https://www.tensorflow.org/api_docs/python/tf/layers) or [TensorFlow Layers (contrib)](https://www.tensorflow.org/api_guides/python/contrib.layers) packages for this layer. For more of a challenge, only use other TensorFlow packages."
   ]
  },
  {
   "cell_type": "code",
   "execution_count": 15,
   "metadata": {},
   "outputs": [
    {
     "name": "stdout",
     "output_type": "stream",
     "text": [
      "Tests Passed\n"
     ]
    }
   ],
   "source": [
    "def fully_conn(x_tensor, num_outputs):\n",
    "    \"\"\"\n",
    "    Apply a fully connected layer to x_tensor using weight and bias\n",
    "    : x_tensor: A 2-D tensor where the first dimension is batch size.\n",
    "    : num_outputs: The number of output that the new tensor should be.\n",
    "    : return: A 2-D tensor where the second dimension is num_outputs.\n",
    "    \"\"\"\n",
    "    return tf.contrib.layers.fully_connected(x_tensor, num_outputs, activation_fn = tf.nn.relu)\n",
    "\n",
    "\n",
    "\"\"\"\n",
    "DON'T MODIFY ANYTHING IN THIS CELL THAT IS BELOW THIS LINE\n",
    "\"\"\"\n",
    "tests.test_fully_conn(fully_conn)"
   ]
  },
  {
   "cell_type": "markdown",
   "metadata": {},
   "source": [
    "### Output Layer\n",
    "Implement the `output` function to apply a fully connected layer to `x_tensor` with the shape (*Batch Size*, *num_outputs*). Shortcut option: you can use classes from the [TensorFlow Layers](https://www.tensorflow.org/api_docs/python/tf/layers) or [TensorFlow Layers (contrib)](https://www.tensorflow.org/api_guides/python/contrib.layers) packages for this layer. For more of a challenge, only use other TensorFlow packages.\n",
    "\n",
    "**Note:** Activation, softmax, or cross entropy should **not** be applied to this."
   ]
  },
  {
   "cell_type": "code",
   "execution_count": 16,
   "metadata": {},
   "outputs": [
    {
     "name": "stdout",
     "output_type": "stream",
     "text": [
      "Tests Passed\n"
     ]
    }
   ],
   "source": [
    "def output(x_tensor, num_outputs):\n",
    "    \"\"\"\n",
    "    Apply a output layer to x_tensor using weight and bias\n",
    "    : x_tensor: A 2-D tensor where the first dimension is batch size.\n",
    "    : num_outputs: The number of output that the new tensor should be.\n",
    "    : return: A 2-D tensor where the second dimension is num_outputs.\n",
    "    \"\"\"\n",
    "    return tf.contrib.layers.fully_connected(x_tensor, num_outputs, activation_fn = None)\n",
    "\n",
    "\n",
    "\"\"\"\n",
    "DON'T MODIFY ANYTHING IN THIS CELL THAT IS BELOW THIS LINE\n",
    "\"\"\"\n",
    "tests.test_output(output)"
   ]
  },
  {
   "cell_type": "markdown",
   "metadata": {},
   "source": [
    "### Create Convolutional Model\n",
    "Implement the function `conv_net` to create a convolutional neural network model. The function takes in a batch of images, `x`, and outputs logits.  Use the layers you created above to create this model:\n",
    "\n",
    "* Apply 1, 2, or 3 Convolution and Max Pool layers\n",
    "* Apply a Flatten Layer\n",
    "* Apply 1, 2, or 3 Fully Connected Layers\n",
    "* Apply an Output Layer\n",
    "* Return the output\n",
    "* Apply [TensorFlow's Dropout](https://www.tensorflow.org/api_docs/python/tf/nn/dropout) to one or more layers in the model using `keep_prob`. "
   ]
  },
  {
   "cell_type": "code",
   "execution_count": 29,
   "metadata": {},
   "outputs": [
    {
     "name": "stdout",
     "output_type": "stream",
     "text": [
      "Neural Network Built!\n"
     ]
    }
   ],
   "source": [
    "def conv_net(x, keep_prob):\n",
    "    \"\"\"\n",
    "    Create a convolutional neural network model\n",
    "    : x: Placeholder tensor that holds image data.\n",
    "    : keep_prob: Placeholder tensor that hold dropout keep probability.\n",
    "    : return: Tensor that represents logits\n",
    "    \"\"\"\n",
    "    # TODO: Apply 1, 2, or 3 Convolution and Max Pool layers\n",
    "    #    Play around with different number of outputs, kernel size and stride\n",
    "    # Function Definition from Above:\n",
    "    #    conv2d_maxpool(x_tensor, conv_num_outputs, conv_ksize, conv_strides, pool_ksize, pool_strides)\n",
    "    \n",
    "    conv_layer_num_outputs = [48,96,192]\n",
    "\n",
    "    conv_layer_strides = [(2,2), (2,2), (2,2)]\n",
    "    conv_layer_ksize = [(4,4), (6,6), (8,8)]\n",
    "\n",
    "    pool_layer_ksize = (4,4)\n",
    "    pool_layer_strides = (2,2)\n",
    "    \n",
    "    #Applying max pool function\n",
    "    conv2d_maxpool_layer = conv2d_maxpool(x, conv_layer_num_outputs[0], conv_layer_ksize[0], conv_layer_strides[0],\n",
    "                                pool_layer_ksize, pool_layer_strides)\n",
    "    \n",
    "    conv2d_maxpool_layer = conv2d_maxpool(conv2d_maxpool_layer, conv_layer_num_outputs[1], conv_layer_ksize[1],\n",
    "                                          conv_layer_strides[1], pool_layer_ksize, pool_layer_strides)\n",
    "    \n",
    "    conv2d_maxpool_layer = conv2d_maxpool(conv2d_maxpool_layer, conv_layer_num_outputs[2], conv_layer_ksize[2],\n",
    "                                          conv_layer_strides[2], pool_layer_ksize, pool_layer_strides)\n",
    "\n",
    "    \n",
    "    # TODO: Apply a Flatten Layer\n",
    "    # Function Definition from Above:\n",
    "    #   flatten(x_tensor)\n",
    "    flatten_value = flatten(conv2d_maxpool_layer)\n",
    "\n",
    "    # TODO: Apply 1, 2, or 3 Fully Connected Layers\n",
    "    #    Play around with different number of outputs\n",
    "    # Function Definition from Above:\n",
    "    #   fully_conn(x_tensor, num_outputs)\n",
    "    fully_connected = fully_conn(flatten_value, 1024) \n",
    "    dropout = tf.nn.dropout(fully_connected, keep_prob)\n",
    "    \n",
    "    fully_connected = fully_conn(dropout, 512)\n",
    "    dropout = tf.nn.dropout(fully_connected, keep_prob)\n",
    "    \n",
    "    fully_connected = fully_conn(dropout, 256)\n",
    "    dropout = tf.nn.dropout(fully_connected, keep_prob)\n",
    "    \n",
    "    # TODO: Apply an Output Layer\n",
    "    #    Set this to the number of classes\n",
    "    # Function Definition from Above:\n",
    "    #   output(x_tensor, num_outputs)\n",
    "    result = output(dropout, 10)\n",
    "    \n",
    "    # TODO: return output\n",
    "    return result\n",
    "\n",
    "\n",
    "\"\"\"\n",
    "DON'T MODIFY ANYTHING IN THIS CELL THAT IS BELOW THIS LINE\n",
    "\"\"\"\n",
    "\n",
    "##############################\n",
    "## Build the Neural Network ##\n",
    "##############################\n",
    "\n",
    "# Remove previous weights, bias, inputs, etc..\n",
    "tf.reset_default_graph()\n",
    "\n",
    "# Inputs\n",
    "x = neural_net_image_input((32, 32, 3))\n",
    "y = neural_net_label_input(10)\n",
    "keep_prob = neural_net_keep_prob_input()\n",
    "\n",
    "# Model\n",
    "logits = conv_net(x, keep_prob)\n",
    "\n",
    "# Name logits Tensor, so that is can be loaded from disk after training\n",
    "logits = tf.identity(logits, name='logits')\n",
    "\n",
    "# Loss and Optimizer\n",
    "cost = tf.reduce_mean(tf.nn.softmax_cross_entropy_with_logits(logits=logits, labels=y))\n",
    "optimizer = tf.train.AdamOptimizer().minimize(cost)\n",
    "\n",
    "# Accuracy\n",
    "correct_pred = tf.equal(tf.argmax(logits, 1), tf.argmax(y, 1))\n",
    "accuracy = tf.reduce_mean(tf.cast(correct_pred, tf.float32), name='accuracy')\n",
    "\n",
    "tests.test_conv_net(conv_net)"
   ]
  },
  {
   "cell_type": "markdown",
   "metadata": {},
   "source": [
    "## Train the Neural Network\n",
    "### Single Optimization\n",
    "Implement the function `train_neural_network` to do a single optimization.  The optimization should use `optimizer` to optimize in `session` with a `feed_dict` of the following:\n",
    "* `x` for image input\n",
    "* `y` for labels\n",
    "* `keep_prob` for keep probability for dropout\n",
    "\n",
    "This function will be called for each batch, so `tf.global_variables_initializer()` has already been called.\n",
    "\n",
    "Note: Nothing needs to be returned. This function is only optimizing the neural network."
   ]
  },
  {
   "cell_type": "code",
   "execution_count": 30,
   "metadata": {},
   "outputs": [
    {
     "name": "stdout",
     "output_type": "stream",
     "text": [
      "Tests Passed\n"
     ]
    }
   ],
   "source": [
    "def train_neural_network(session, optimizer, keep_probability, feature_batch, label_batch):\n",
    "    \"\"\"\n",
    "    Optimize the session on a batch of images and labels\n",
    "    : session: Current TensorFlow session\n",
    "    : optimizer: TensorFlow optimizer function\n",
    "    : keep_probability: keep probability\n",
    "    : feature_batch: Batch of Numpy image data\n",
    "    : label_batch: Batch of Numpy label data\n",
    "    \"\"\"\n",
    "    session.run(optimizer, feed_dict={x: feature_batch, y: label_batch, keep_prob: keep_probability})\n",
    "\n",
    "\n",
    "\"\"\"\n",
    "DON'T MODIFY ANYTHING IN THIS CELL THAT IS BELOW THIS LINE\n",
    "\"\"\"\n",
    "tests.test_train_nn(train_neural_network)"
   ]
  },
  {
   "cell_type": "markdown",
   "metadata": {},
   "source": [
    "### Show Stats\n",
    "Implement the function `print_stats` to print loss and validation accuracy.  Use the global variables `valid_features` and `valid_labels` to calculate validation accuracy.  Use a keep probability of `1.0` to calculate the loss and validation accuracy."
   ]
  },
  {
   "cell_type": "code",
   "execution_count": 31,
   "metadata": {},
   "outputs": [],
   "source": [
    "def print_stats(session, feature_batch, label_batch, cost, accuracy):\n",
    "    \"\"\"\n",
    "    Print information about loss and validation accuracy\n",
    "    : session: Current TensorFlow session\n",
    "    : feature_batch: Batch of Numpy image data\n",
    "    : label_batch: Batch of Numpy label data\n",
    "    : cost: TensorFlow cost function\n",
    "    : accuracy: TensorFlow accuracy function\n",
    "    \"\"\"\n",
    "    loss = session.run(cost, feed_dict={x:feature_batch, y:label_batch, keep_prob: 1.0})\n",
    "    accuracy = session.run(accuracy, feed_dict={x: valid_features, y:valid_labels, keep_prob:1.0})\n",
    "    \n",
    "    print('Loss: ', loss, ' Validation Accuracy: ', accuracy)"
   ]
  },
  {
   "cell_type": "markdown",
   "metadata": {},
   "source": [
    "### Hyperparameters\n",
    "Tune the following parameters:\n",
    "* Set `epochs` to the number of iterations until the network stops learning or start overfitting\n",
    "* Set `batch_size` to the highest number that your machine has memory for.  Most people set them to common sizes of memory:\n",
    " * 64\n",
    " * 128\n",
    " * 256\n",
    " * ...\n",
    "* Set `keep_probability` to the probability of keeping a node using dropout"
   ]
  },
  {
   "cell_type": "code",
   "execution_count": 32,
   "metadata": {},
   "outputs": [],
   "source": [
    "# TODO: Tune Parameters\n",
    "epochs = 50\n",
    "batch_size = 256\n",
    "keep_probability = 0.5"
   ]
  },
  {
   "cell_type": "markdown",
   "metadata": {},
   "source": [
    "### Train on a Single CIFAR-10 Batch\n",
    "Instead of training the neural network on all the CIFAR-10 batches of data, let's use a single batch. This should save time while you iterate on the model to get a better accuracy.  Once the final validation accuracy is 50% or greater, run the model on all the data in the next section."
   ]
  },
  {
   "cell_type": "code",
   "execution_count": 33,
   "metadata": {},
   "outputs": [
    {
     "name": "stdout",
     "output_type": "stream",
     "text": [
      "Checking the Training on a Single Batch...\n",
      "Epoch  1, CIFAR-10 Batch 1:  Loss:  2.2562242  Validation Accuracy:  0.1186\n",
      "Epoch  2, CIFAR-10 Batch 1:  Loss:  2.2007153  Validation Accuracy:  0.1802\n",
      "Epoch  3, CIFAR-10 Batch 1:  Loss:  2.140768  Validation Accuracy:  0.2166\n",
      "Epoch  4, CIFAR-10 Batch 1:  Loss:  2.0560832  Validation Accuracy:  0.244\n",
      "Epoch  5, CIFAR-10 Batch 1:  Loss:  1.9102806  Validation Accuracy:  0.2854\n",
      "Epoch  6, CIFAR-10 Batch 1:  Loss:  1.7061936  Validation Accuracy:  0.3172\n",
      "Epoch  7, CIFAR-10 Batch 1:  Loss:  1.5703641  Validation Accuracy:  0.3466\n",
      "Epoch  8, CIFAR-10 Batch 1:  Loss:  1.549677  Validation Accuracy:  0.3538\n",
      "Epoch  9, CIFAR-10 Batch 1:  Loss:  1.3878114  Validation Accuracy:  0.387\n",
      "Epoch 10, CIFAR-10 Batch 1:  Loss:  1.2368814  Validation Accuracy:  0.4004\n",
      "Epoch 11, CIFAR-10 Batch 1:  Loss:  1.1952975  Validation Accuracy:  0.391\n",
      "Epoch 12, CIFAR-10 Batch 1:  Loss:  1.153479  Validation Accuracy:  0.3972\n",
      "Epoch 13, CIFAR-10 Batch 1:  Loss:  0.9877591  Validation Accuracy:  0.4242\n",
      "Epoch 14, CIFAR-10 Batch 1:  Loss:  1.0255312  Validation Accuracy:  0.4236\n",
      "Epoch 15, CIFAR-10 Batch 1:  Loss:  0.9315499  Validation Accuracy:  0.4296\n",
      "Epoch 16, CIFAR-10 Batch 1:  Loss:  0.9013001  Validation Accuracy:  0.434\n",
      "Epoch 17, CIFAR-10 Batch 1:  Loss:  0.84165823  Validation Accuracy:  0.444\n",
      "Epoch 18, CIFAR-10 Batch 1:  Loss:  0.94360125  Validation Accuracy:  0.4218\n",
      "Epoch 19, CIFAR-10 Batch 1:  Loss:  0.7902833  Validation Accuracy:  0.4174\n",
      "Epoch 20, CIFAR-10 Batch 1:  Loss:  0.7884593  Validation Accuracy:  0.4016\n",
      "Epoch 21, CIFAR-10 Batch 1:  Loss:  0.713536  Validation Accuracy:  0.4426\n",
      "Epoch 22, CIFAR-10 Batch 1:  Loss:  0.6379483  Validation Accuracy:  0.4632\n",
      "Epoch 23, CIFAR-10 Batch 1:  Loss:  0.61693305  Validation Accuracy:  0.4454\n",
      "Epoch 24, CIFAR-10 Batch 1:  Loss:  0.62313  Validation Accuracy:  0.4574\n",
      "Epoch 25, CIFAR-10 Batch 1:  Loss:  0.62232673  Validation Accuracy:  0.4604\n",
      "Epoch 26, CIFAR-10 Batch 1:  Loss:  0.5791448  Validation Accuracy:  0.4458\n",
      "Epoch 27, CIFAR-10 Batch 1:  Loss:  0.5631665  Validation Accuracy:  0.4792\n",
      "Epoch 28, CIFAR-10 Batch 1:  Loss:  0.5522417  Validation Accuracy:  0.4826\n",
      "Epoch 29, CIFAR-10 Batch 1:  Loss:  0.5139165  Validation Accuracy:  0.4758\n",
      "Epoch 30, CIFAR-10 Batch 1:  Loss:  0.50585645  Validation Accuracy:  0.4982\n",
      "Epoch 31, CIFAR-10 Batch 1:  Loss:  0.4607466  Validation Accuracy:  0.5026\n",
      "Epoch 32, CIFAR-10 Batch 1:  Loss:  0.4831512  Validation Accuracy:  0.4886\n",
      "Epoch 33, CIFAR-10 Batch 1:  Loss:  0.39993915  Validation Accuracy:  0.5002\n",
      "Epoch 34, CIFAR-10 Batch 1:  Loss:  0.37260634  Validation Accuracy:  0.4914\n",
      "Epoch 35, CIFAR-10 Batch 1:  Loss:  0.36077636  Validation Accuracy:  0.4914\n",
      "Epoch 36, CIFAR-10 Batch 1:  Loss:  0.29816848  Validation Accuracy:  0.4958\n",
      "Epoch 37, CIFAR-10 Batch 1:  Loss:  0.29996735  Validation Accuracy:  0.4766\n",
      "Epoch 38, CIFAR-10 Batch 1:  Loss:  0.31520247  Validation Accuracy:  0.4762\n",
      "Epoch 39, CIFAR-10 Batch 1:  Loss:  0.37173888  Validation Accuracy:  0.469\n",
      "Epoch 40, CIFAR-10 Batch 1:  Loss:  0.31720012  Validation Accuracy:  0.4646\n",
      "Epoch 41, CIFAR-10 Batch 1:  Loss:  0.27321315  Validation Accuracy:  0.47\n",
      "Epoch 42, CIFAR-10 Batch 1:  Loss:  0.2614263  Validation Accuracy:  0.4858\n",
      "Epoch 43, CIFAR-10 Batch 1:  Loss:  0.24232373  Validation Accuracy:  0.4858\n",
      "Epoch 44, CIFAR-10 Batch 1:  Loss:  0.29453883  Validation Accuracy:  0.4752\n",
      "Epoch 45, CIFAR-10 Batch 1:  Loss:  0.2362772  Validation Accuracy:  0.4894\n",
      "Epoch 46, CIFAR-10 Batch 1:  Loss:  0.25454277  Validation Accuracy:  0.4862\n",
      "Epoch 47, CIFAR-10 Batch 1:  Loss:  0.2574372  Validation Accuracy:  0.4816\n",
      "Epoch 48, CIFAR-10 Batch 1:  Loss:  0.20284398  Validation Accuracy:  0.477\n",
      "Epoch 49, CIFAR-10 Batch 1:  Loss:  0.19904037  Validation Accuracy:  0.4894\n",
      "Epoch 50, CIFAR-10 Batch 1:  Loss:  0.18350384  Validation Accuracy:  0.4872\n"
     ]
    }
   ],
   "source": [
    "\"\"\"\n",
    "DON'T MODIFY ANYTHING IN THIS CELL\n",
    "\"\"\"\n",
    "print('Checking the Training on a Single Batch...')\n",
    "with tf.Session() as sess:\n",
    "    # Initializing the variables\n",
    "    sess.run(tf.global_variables_initializer())\n",
    "    \n",
    "    # Training cycle\n",
    "    for epoch in range(epochs):\n",
    "        batch_i = 1\n",
    "        for batch_features, batch_labels in helper.load_preprocess_training_batch(batch_i, batch_size):\n",
    "            train_neural_network(sess, optimizer, keep_probability, batch_features, batch_labels)\n",
    "        print('Epoch {:>2}, CIFAR-10 Batch {}:  '.format(epoch + 1, batch_i), end='')\n",
    "        print_stats(sess, batch_features, batch_labels, cost, accuracy)"
   ]
  },
  {
   "cell_type": "markdown",
   "metadata": {},
   "source": [
    "### Fully Train the Model\n",
    "Now that you got a good accuracy with a single CIFAR-10 batch, try it with all five batches."
   ]
  },
  {
   "cell_type": "code",
   "execution_count": 34,
   "metadata": {},
   "outputs": [
    {
     "name": "stdout",
     "output_type": "stream",
     "text": [
      "Training...\n",
      "Epoch  1, CIFAR-10 Batch 1:  Loss:  2.2330365  Validation Accuracy:  0.1734\n",
      "Epoch  1, CIFAR-10 Batch 2:  Loss:  1.9775765  Validation Accuracy:  0.198\n",
      "Epoch  1, CIFAR-10 Batch 3:  Loss:  1.7989597  Validation Accuracy:  0.1956\n",
      "Epoch  1, CIFAR-10 Batch 4:  Loss:  1.8577389  Validation Accuracy:  0.2278\n",
      "Epoch  1, CIFAR-10 Batch 5:  Loss:  1.7137463  Validation Accuracy:  0.2814\n",
      "Epoch  2, CIFAR-10 Batch 1:  Loss:  1.823  Validation Accuracy:  0.3094\n",
      "Epoch  2, CIFAR-10 Batch 2:  Loss:  1.8053133  Validation Accuracy:  0.3552\n",
      "Epoch  2, CIFAR-10 Batch 3:  Loss:  1.3097404  Validation Accuracy:  0.3694\n",
      "Epoch  2, CIFAR-10 Batch 4:  Loss:  1.6074953  Validation Accuracy:  0.3774\n",
      "Epoch  2, CIFAR-10 Batch 5:  Loss:  1.4809453  Validation Accuracy:  0.3738\n",
      "Epoch  3, CIFAR-10 Batch 1:  Loss:  1.5776742  Validation Accuracy:  0.387\n",
      "Epoch  3, CIFAR-10 Batch 2:  Loss:  1.5231388  Validation Accuracy:  0.4132\n",
      "Epoch  3, CIFAR-10 Batch 3:  Loss:  1.2115748  Validation Accuracy:  0.4074\n",
      "Epoch  3, CIFAR-10 Batch 4:  Loss:  1.460358  Validation Accuracy:  0.4206\n",
      "Epoch  3, CIFAR-10 Batch 5:  Loss:  1.4030846  Validation Accuracy:  0.401\n",
      "Epoch  4, CIFAR-10 Batch 1:  Loss:  1.2875198  Validation Accuracy:  0.4584\n",
      "Epoch  4, CIFAR-10 Batch 2:  Loss:  1.2467889  Validation Accuracy:  0.469\n",
      "Epoch  4, CIFAR-10 Batch 3:  Loss:  0.99962723  Validation Accuracy:  0.4588\n",
      "Epoch  4, CIFAR-10 Batch 4:  Loss:  1.2432501  Validation Accuracy:  0.481\n",
      "Epoch  4, CIFAR-10 Batch 5:  Loss:  1.3021746  Validation Accuracy:  0.4786\n",
      "Epoch  5, CIFAR-10 Batch 1:  Loss:  1.1581111  Validation Accuracy:  0.507\n",
      "Epoch  5, CIFAR-10 Batch 2:  Loss:  1.0712935  Validation Accuracy:  0.5104\n",
      "Epoch  5, CIFAR-10 Batch 3:  Loss:  0.8869823  Validation Accuracy:  0.487\n",
      "Epoch  5, CIFAR-10 Batch 4:  Loss:  1.0542121  Validation Accuracy:  0.5284\n",
      "Epoch  5, CIFAR-10 Batch 5:  Loss:  1.1703869  Validation Accuracy:  0.5286\n",
      "Epoch  6, CIFAR-10 Batch 1:  Loss:  0.993718  Validation Accuracy:  0.5462\n",
      "Epoch  6, CIFAR-10 Batch 2:  Loss:  0.90817225  Validation Accuracy:  0.5416\n",
      "Epoch  6, CIFAR-10 Batch 3:  Loss:  0.8001232  Validation Accuracy:  0.508\n",
      "Epoch  6, CIFAR-10 Batch 4:  Loss:  0.8920596  Validation Accuracy:  0.5444\n",
      "Epoch  6, CIFAR-10 Batch 5:  Loss:  1.0575833  Validation Accuracy:  0.564\n",
      "Epoch  7, CIFAR-10 Batch 1:  Loss:  0.8683777  Validation Accuracy:  0.5596\n",
      "Epoch  7, CIFAR-10 Batch 2:  Loss:  0.7112378  Validation Accuracy:  0.5704\n",
      "Epoch  7, CIFAR-10 Batch 3:  Loss:  0.73317087  Validation Accuracy:  0.51\n",
      "Epoch  7, CIFAR-10 Batch 4:  Loss:  0.94435704  Validation Accuracy:  0.5588\n",
      "Epoch  7, CIFAR-10 Batch 5:  Loss:  0.8972478  Validation Accuracy:  0.5688\n",
      "Epoch  8, CIFAR-10 Batch 1:  Loss:  0.84340143  Validation Accuracy:  0.5454\n",
      "Epoch  8, CIFAR-10 Batch 2:  Loss:  0.6344144  Validation Accuracy:  0.573\n",
      "Epoch  8, CIFAR-10 Batch 3:  Loss:  0.5448112  Validation Accuracy:  0.5776\n",
      "Epoch  8, CIFAR-10 Batch 4:  Loss:  0.78824544  Validation Accuracy:  0.5798\n",
      "Epoch  8, CIFAR-10 Batch 5:  Loss:  0.75158983  Validation Accuracy:  0.5784\n",
      "Epoch  9, CIFAR-10 Batch 1:  Loss:  0.775156  Validation Accuracy:  0.5832\n",
      "Epoch  9, CIFAR-10 Batch 2:  Loss:  0.5808157  Validation Accuracy:  0.5938\n",
      "Epoch  9, CIFAR-10 Batch 3:  Loss:  0.47336707  Validation Accuracy:  0.592\n",
      "Epoch  9, CIFAR-10 Batch 4:  Loss:  0.77065974  Validation Accuracy:  0.5718\n",
      "Epoch  9, CIFAR-10 Batch 5:  Loss:  0.6746432  Validation Accuracy:  0.5646\n",
      "Epoch 10, CIFAR-10 Batch 1:  Loss:  0.77387357  Validation Accuracy:  0.5704\n",
      "Epoch 10, CIFAR-10 Batch 2:  Loss:  0.5311718  Validation Accuracy:  0.5886\n",
      "Epoch 10, CIFAR-10 Batch 3:  Loss:  0.43367833  Validation Accuracy:  0.5816\n",
      "Epoch 10, CIFAR-10 Batch 4:  Loss:  0.67070496  Validation Accuracy:  0.5822\n",
      "Epoch 10, CIFAR-10 Batch 5:  Loss:  0.5493709  Validation Accuracy:  0.5896\n",
      "Epoch 11, CIFAR-10 Batch 1:  Loss:  0.72133857  Validation Accuracy:  0.5834\n",
      "Epoch 11, CIFAR-10 Batch 2:  Loss:  0.50577325  Validation Accuracy:  0.594\n",
      "Epoch 11, CIFAR-10 Batch 3:  Loss:  0.40562147  Validation Accuracy:  0.5654\n",
      "Epoch 11, CIFAR-10 Batch 4:  Loss:  0.6854844  Validation Accuracy:  0.5838\n",
      "Epoch 11, CIFAR-10 Batch 5:  Loss:  0.5784042  Validation Accuracy:  0.6046\n",
      "Epoch 12, CIFAR-10 Batch 1:  Loss:  0.6527811  Validation Accuracy:  0.5962\n",
      "Epoch 12, CIFAR-10 Batch 2:  Loss:  0.45337397  Validation Accuracy:  0.6062\n",
      "Epoch 12, CIFAR-10 Batch 3:  Loss:  0.3841949  Validation Accuracy:  0.592\n",
      "Epoch 12, CIFAR-10 Batch 4:  Loss:  0.60339916  Validation Accuracy:  0.5962\n",
      "Epoch 12, CIFAR-10 Batch 5:  Loss:  0.504166  Validation Accuracy:  0.6082\n",
      "Epoch 13, CIFAR-10 Batch 1:  Loss:  0.5758124  Validation Accuracy:  0.6076\n",
      "Epoch 13, CIFAR-10 Batch 2:  Loss:  0.43111315  Validation Accuracy:  0.6072\n",
      "Epoch 13, CIFAR-10 Batch 3:  Loss:  0.30508906  Validation Accuracy:  0.6168\n",
      "Epoch 13, CIFAR-10 Batch 4:  Loss:  0.5350478  Validation Accuracy:  0.5958\n",
      "Epoch 13, CIFAR-10 Batch 5:  Loss:  0.462051  Validation Accuracy:  0.6126\n",
      "Epoch 14, CIFAR-10 Batch 1:  Loss:  0.55480564  Validation Accuracy:  0.5916\n",
      "Epoch 14, CIFAR-10 Batch 2:  Loss:  0.38890198  Validation Accuracy:  0.6154\n",
      "Epoch 14, CIFAR-10 Batch 3:  Loss:  0.27522403  Validation Accuracy:  0.6096\n",
      "Epoch 14, CIFAR-10 Batch 4:  Loss:  0.62734777  Validation Accuracy:  0.5968\n",
      "Epoch 14, CIFAR-10 Batch 5:  Loss:  0.40605918  Validation Accuracy:  0.6186\n",
      "Epoch 15, CIFAR-10 Batch 1:  Loss:  0.5421006  Validation Accuracy:  0.5926\n",
      "Epoch 15, CIFAR-10 Batch 2:  Loss:  0.3981355  Validation Accuracy:  0.6082\n",
      "Epoch 15, CIFAR-10 Batch 3:  Loss:  0.2588331  Validation Accuracy:  0.6166\n",
      "Epoch 15, CIFAR-10 Batch 4:  Loss:  0.54202485  Validation Accuracy:  0.5852\n",
      "Epoch 15, CIFAR-10 Batch 5:  Loss:  0.37635761  Validation Accuracy:  0.6132\n",
      "Epoch 16, CIFAR-10 Batch 1:  Loss:  0.5050698  Validation Accuracy:  0.5878\n",
      "Epoch 16, CIFAR-10 Batch 2:  Loss:  0.37289473  Validation Accuracy:  0.6226\n",
      "Epoch 16, CIFAR-10 Batch 3:  Loss:  0.24409685  Validation Accuracy:  0.6162\n",
      "Epoch 16, CIFAR-10 Batch 4:  Loss:  0.47685632  Validation Accuracy:  0.6176\n",
      "Epoch 16, CIFAR-10 Batch 5:  Loss:  0.3474638  Validation Accuracy:  0.6314\n",
      "Epoch 17, CIFAR-10 Batch 1:  Loss:  0.4751812  Validation Accuracy:  0.5926\n",
      "Epoch 17, CIFAR-10 Batch 2:  Loss:  0.34836453  Validation Accuracy:  0.626\n",
      "Epoch 17, CIFAR-10 Batch 3:  Loss:  0.22851615  Validation Accuracy:  0.6212\n",
      "Epoch 17, CIFAR-10 Batch 4:  Loss:  0.45901614  Validation Accuracy:  0.629\n",
      "Epoch 17, CIFAR-10 Batch 5:  Loss:  0.33429003  Validation Accuracy:  0.6306\n",
      "Epoch 18, CIFAR-10 Batch 1:  Loss:  0.49141994  Validation Accuracy:  0.606\n",
      "Epoch 18, CIFAR-10 Batch 2:  Loss:  0.36235046  Validation Accuracy:  0.6264\n",
      "Epoch 18, CIFAR-10 Batch 3:  Loss:  0.21656132  Validation Accuracy:  0.619\n",
      "Epoch 18, CIFAR-10 Batch 4:  Loss:  0.4307588  Validation Accuracy:  0.6116\n",
      "Epoch 18, CIFAR-10 Batch 5:  Loss:  0.32341304  Validation Accuracy:  0.6146\n",
      "Epoch 19, CIFAR-10 Batch 1:  Loss:  0.42667523  Validation Accuracy:  0.5916\n",
      "Epoch 19, CIFAR-10 Batch 2:  Loss:  0.35468873  Validation Accuracy:  0.6272\n",
      "Epoch 19, CIFAR-10 Batch 3:  Loss:  0.18000928  Validation Accuracy:  0.6182\n",
      "Epoch 19, CIFAR-10 Batch 4:  Loss:  0.37973213  Validation Accuracy:  0.62\n",
      "Epoch 19, CIFAR-10 Batch 5:  Loss:  0.2775262  Validation Accuracy:  0.6142\n",
      "Epoch 20, CIFAR-10 Batch 1:  Loss:  0.4148302  Validation Accuracy:  0.6352\n",
      "Epoch 20, CIFAR-10 Batch 2:  Loss:  0.38063774  Validation Accuracy:  0.6262\n",
      "Epoch 20, CIFAR-10 Batch 3:  Loss:  0.16052526  Validation Accuracy:  0.634\n",
      "Epoch 20, CIFAR-10 Batch 4:  Loss:  0.3224874  Validation Accuracy:  0.6348\n",
      "Epoch 20, CIFAR-10 Batch 5:  Loss:  0.24031591  Validation Accuracy:  0.6172\n",
      "Epoch 21, CIFAR-10 Batch 1:  Loss:  0.4061833  Validation Accuracy:  0.6294\n",
      "Epoch 21, CIFAR-10 Batch 2:  Loss:  0.32149416  Validation Accuracy:  0.6288\n",
      "Epoch 21, CIFAR-10 Batch 3:  Loss:  0.17321987  Validation Accuracy:  0.6216\n",
      "Epoch 21, CIFAR-10 Batch 4:  Loss:  0.37040687  Validation Accuracy:  0.6278\n",
      "Epoch 21, CIFAR-10 Batch 5:  Loss:  0.23377915  Validation Accuracy:  0.607\n",
      "Epoch 22, CIFAR-10 Batch 1:  Loss:  0.389742  Validation Accuracy:  0.6312\n",
      "Epoch 22, CIFAR-10 Batch 2:  Loss:  0.30294394  Validation Accuracy:  0.636\n"
     ]
    },
    {
     "name": "stdout",
     "output_type": "stream",
     "text": [
      "Epoch 22, CIFAR-10 Batch 3:  Loss:  0.16625889  Validation Accuracy:  0.627\n",
      "Epoch 22, CIFAR-10 Batch 4:  Loss:  0.30979207  Validation Accuracy:  0.6316\n",
      "Epoch 22, CIFAR-10 Batch 5:  Loss:  0.17522433  Validation Accuracy:  0.6154\n",
      "Epoch 23, CIFAR-10 Batch 1:  Loss:  0.35915914  Validation Accuracy:  0.6404\n",
      "Epoch 23, CIFAR-10 Batch 2:  Loss:  0.28028613  Validation Accuracy:  0.6298\n",
      "Epoch 23, CIFAR-10 Batch 3:  Loss:  0.17111292  Validation Accuracy:  0.6214\n",
      "Epoch 23, CIFAR-10 Batch 4:  Loss:  0.27362853  Validation Accuracy:  0.6306\n",
      "Epoch 23, CIFAR-10 Batch 5:  Loss:  0.18345818  Validation Accuracy:  0.6298\n",
      "Epoch 24, CIFAR-10 Batch 1:  Loss:  0.363669  Validation Accuracy:  0.6352\n",
      "Epoch 24, CIFAR-10 Batch 2:  Loss:  0.27798453  Validation Accuracy:  0.6334\n",
      "Epoch 24, CIFAR-10 Batch 3:  Loss:  0.16454633  Validation Accuracy:  0.626\n",
      "Epoch 24, CIFAR-10 Batch 4:  Loss:  0.29956937  Validation Accuracy:  0.6276\n",
      "Epoch 24, CIFAR-10 Batch 5:  Loss:  0.1614187  Validation Accuracy:  0.6232\n",
      "Epoch 25, CIFAR-10 Batch 1:  Loss:  0.35079107  Validation Accuracy:  0.6484\n",
      "Epoch 25, CIFAR-10 Batch 2:  Loss:  0.26597184  Validation Accuracy:  0.6354\n",
      "Epoch 25, CIFAR-10 Batch 3:  Loss:  0.14713211  Validation Accuracy:  0.634\n",
      "Epoch 25, CIFAR-10 Batch 4:  Loss:  0.28339186  Validation Accuracy:  0.629\n",
      "Epoch 25, CIFAR-10 Batch 5:  Loss:  0.16656551  Validation Accuracy:  0.633\n",
      "Epoch 26, CIFAR-10 Batch 1:  Loss:  0.33030638  Validation Accuracy:  0.6452\n",
      "Epoch 26, CIFAR-10 Batch 2:  Loss:  0.23227711  Validation Accuracy:  0.6282\n",
      "Epoch 26, CIFAR-10 Batch 3:  Loss:  0.13475637  Validation Accuracy:  0.6214\n",
      "Epoch 26, CIFAR-10 Batch 4:  Loss:  0.26742414  Validation Accuracy:  0.6314\n",
      "Epoch 26, CIFAR-10 Batch 5:  Loss:  0.17553763  Validation Accuracy:  0.633\n",
      "Epoch 27, CIFAR-10 Batch 1:  Loss:  0.31235167  Validation Accuracy:  0.6336\n",
      "Epoch 27, CIFAR-10 Batch 2:  Loss:  0.23962851  Validation Accuracy:  0.6412\n",
      "Epoch 27, CIFAR-10 Batch 3:  Loss:  0.133946  Validation Accuracy:  0.63\n",
      "Epoch 27, CIFAR-10 Batch 4:  Loss:  0.28025  Validation Accuracy:  0.6402\n",
      "Epoch 27, CIFAR-10 Batch 5:  Loss:  0.14478171  Validation Accuracy:  0.638\n",
      "Epoch 28, CIFAR-10 Batch 1:  Loss:  0.30779746  Validation Accuracy:  0.6172\n",
      "Epoch 28, CIFAR-10 Batch 2:  Loss:  0.21661186  Validation Accuracy:  0.6344\n",
      "Epoch 28, CIFAR-10 Batch 3:  Loss:  0.15378813  Validation Accuracy:  0.616\n",
      "Epoch 28, CIFAR-10 Batch 4:  Loss:  0.27245417  Validation Accuracy:  0.6454\n",
      "Epoch 28, CIFAR-10 Batch 5:  Loss:  0.1436748  Validation Accuracy:  0.6356\n",
      "Epoch 29, CIFAR-10 Batch 1:  Loss:  0.31780964  Validation Accuracy:  0.6222\n",
      "Epoch 29, CIFAR-10 Batch 2:  Loss:  0.2175829  Validation Accuracy:  0.6442\n",
      "Epoch 29, CIFAR-10 Batch 3:  Loss:  0.14466879  Validation Accuracy:  0.6146\n",
      "Epoch 29, CIFAR-10 Batch 4:  Loss:  0.25178844  Validation Accuracy:  0.6364\n",
      "Epoch 29, CIFAR-10 Batch 5:  Loss:  0.113623105  Validation Accuracy:  0.6398\n",
      "Epoch 30, CIFAR-10 Batch 1:  Loss:  0.30558875  Validation Accuracy:  0.6264\n",
      "Epoch 30, CIFAR-10 Batch 2:  Loss:  0.1946239  Validation Accuracy:  0.6474\n",
      "Epoch 30, CIFAR-10 Batch 3:  Loss:  0.13351215  Validation Accuracy:  0.6068\n",
      "Epoch 30, CIFAR-10 Batch 4:  Loss:  0.28870684  Validation Accuracy:  0.6302\n",
      "Epoch 30, CIFAR-10 Batch 5:  Loss:  0.1370978  Validation Accuracy:  0.6434\n",
      "Epoch 31, CIFAR-10 Batch 1:  Loss:  0.27503923  Validation Accuracy:  0.6266\n",
      "Epoch 31, CIFAR-10 Batch 2:  Loss:  0.19213803  Validation Accuracy:  0.6348\n",
      "Epoch 31, CIFAR-10 Batch 3:  Loss:  0.20153823  Validation Accuracy:  0.5836\n",
      "Epoch 31, CIFAR-10 Batch 4:  Loss:  0.28006852  Validation Accuracy:  0.6348\n",
      "Epoch 31, CIFAR-10 Batch 5:  Loss:  0.15334196  Validation Accuracy:  0.6418\n",
      "Epoch 32, CIFAR-10 Batch 1:  Loss:  0.22673734  Validation Accuracy:  0.6244\n",
      "Epoch 32, CIFAR-10 Batch 2:  Loss:  0.15313925  Validation Accuracy:  0.6418\n",
      "Epoch 32, CIFAR-10 Batch 3:  Loss:  0.16036512  Validation Accuracy:  0.5922\n",
      "Epoch 32, CIFAR-10 Batch 4:  Loss:  0.23648295  Validation Accuracy:  0.6454\n",
      "Epoch 32, CIFAR-10 Batch 5:  Loss:  0.123142734  Validation Accuracy:  0.6454\n",
      "Epoch 33, CIFAR-10 Batch 1:  Loss:  0.2520788  Validation Accuracy:  0.6258\n",
      "Epoch 33, CIFAR-10 Batch 2:  Loss:  0.17901316  Validation Accuracy:  0.6412\n",
      "Epoch 33, CIFAR-10 Batch 3:  Loss:  0.1114642  Validation Accuracy:  0.612\n",
      "Epoch 33, CIFAR-10 Batch 4:  Loss:  0.23024683  Validation Accuracy:  0.6468\n",
      "Epoch 33, CIFAR-10 Batch 5:  Loss:  0.10848181  Validation Accuracy:  0.6356\n",
      "Epoch 34, CIFAR-10 Batch 1:  Loss:  0.26443303  Validation Accuracy:  0.6148\n",
      "Epoch 34, CIFAR-10 Batch 2:  Loss:  0.14845648  Validation Accuracy:  0.6446\n",
      "Epoch 34, CIFAR-10 Batch 3:  Loss:  0.11914692  Validation Accuracy:  0.5916\n",
      "Epoch 34, CIFAR-10 Batch 4:  Loss:  0.21622102  Validation Accuracy:  0.6518\n",
      "Epoch 34, CIFAR-10 Batch 5:  Loss:  0.1078136  Validation Accuracy:  0.6388\n",
      "Epoch 35, CIFAR-10 Batch 1:  Loss:  0.2050316  Validation Accuracy:  0.6318\n",
      "Epoch 35, CIFAR-10 Batch 2:  Loss:  0.14133583  Validation Accuracy:  0.6146\n",
      "Epoch 35, CIFAR-10 Batch 3:  Loss:  0.10830432  Validation Accuracy:  0.6164\n",
      "Epoch 35, CIFAR-10 Batch 4:  Loss:  0.20239453  Validation Accuracy:  0.6472\n",
      "Epoch 35, CIFAR-10 Batch 5:  Loss:  0.12368427  Validation Accuracy:  0.6368\n",
      "Epoch 36, CIFAR-10 Batch 1:  Loss:  0.23676379  Validation Accuracy:  0.6138\n",
      "Epoch 36, CIFAR-10 Batch 2:  Loss:  0.16695556  Validation Accuracy:  0.613\n",
      "Epoch 36, CIFAR-10 Batch 3:  Loss:  0.14740877  Validation Accuracy:  0.5998\n",
      "Epoch 36, CIFAR-10 Batch 4:  Loss:  0.2055089  Validation Accuracy:  0.6522\n",
      "Epoch 36, CIFAR-10 Batch 5:  Loss:  0.16310003  Validation Accuracy:  0.6346\n",
      "Epoch 37, CIFAR-10 Batch 1:  Loss:  0.24508214  Validation Accuracy:  0.609\n",
      "Epoch 37, CIFAR-10 Batch 2:  Loss:  0.14145024  Validation Accuracy:  0.621\n",
      "Epoch 37, CIFAR-10 Batch 3:  Loss:  0.09652134  Validation Accuracy:  0.6214\n",
      "Epoch 37, CIFAR-10 Batch 4:  Loss:  0.19104291  Validation Accuracy:  0.6488\n",
      "Epoch 37, CIFAR-10 Batch 5:  Loss:  0.11600795  Validation Accuracy:  0.6334\n",
      "Epoch 38, CIFAR-10 Batch 1:  Loss:  0.22463694  Validation Accuracy:  0.6244\n",
      "Epoch 38, CIFAR-10 Batch 2:  Loss:  0.12824887  Validation Accuracy:  0.6208\n",
      "Epoch 38, CIFAR-10 Batch 3:  Loss:  0.13083373  Validation Accuracy:  0.6248\n",
      "Epoch 38, CIFAR-10 Batch 4:  Loss:  0.16655429  Validation Accuracy:  0.6446\n",
      "Epoch 38, CIFAR-10 Batch 5:  Loss:  0.115454055  Validation Accuracy:  0.6286\n",
      "Epoch 39, CIFAR-10 Batch 1:  Loss:  0.2646119  Validation Accuracy:  0.6032\n",
      "Epoch 39, CIFAR-10 Batch 2:  Loss:  0.12117376  Validation Accuracy:  0.63\n",
      "Epoch 39, CIFAR-10 Batch 3:  Loss:  0.12929098  Validation Accuracy:  0.6226\n",
      "Epoch 39, CIFAR-10 Batch 4:  Loss:  0.14760509  Validation Accuracy:  0.639\n",
      "Epoch 39, CIFAR-10 Batch 5:  Loss:  0.1360213  Validation Accuracy:  0.6156\n",
      "Epoch 40, CIFAR-10 Batch 1:  Loss:  0.22490127  Validation Accuracy:  0.6054\n",
      "Epoch 40, CIFAR-10 Batch 2:  Loss:  0.14338115  Validation Accuracy:  0.6336\n",
      "Epoch 40, CIFAR-10 Batch 3:  Loss:  0.08751349  Validation Accuracy:  0.6356\n",
      "Epoch 40, CIFAR-10 Batch 4:  Loss:  0.15163553  Validation Accuracy:  0.6526\n",
      "Epoch 40, CIFAR-10 Batch 5:  Loss:  0.12233822  Validation Accuracy:  0.61\n",
      "Epoch 41, CIFAR-10 Batch 1:  Loss:  0.19510281  Validation Accuracy:  0.6234\n",
      "Epoch 41, CIFAR-10 Batch 2:  Loss:  0.12143157  Validation Accuracy:  0.6102\n",
      "Epoch 41, CIFAR-10 Batch 3:  Loss:  0.10242518  Validation Accuracy:  0.6274\n",
      "Epoch 41, CIFAR-10 Batch 4:  Loss:  0.19808702  Validation Accuracy:  0.6466\n",
      "Epoch 41, CIFAR-10 Batch 5:  Loss:  0.085204564  Validation Accuracy:  0.6288\n",
      "Epoch 42, CIFAR-10 Batch 1:  Loss:  0.15786693  Validation Accuracy:  0.6248\n",
      "Epoch 42, CIFAR-10 Batch 2:  Loss:  0.10660069  Validation Accuracy:  0.6156\n",
      "Epoch 42, CIFAR-10 Batch 3:  Loss:  0.10706309  Validation Accuracy:  0.6212\n",
      "Epoch 42, CIFAR-10 Batch 4:  Loss:  0.1917618  Validation Accuracy:  0.6312\n",
      "Epoch 42, CIFAR-10 Batch 5:  Loss:  0.12912373  Validation Accuracy:  0.6036\n",
      "Epoch 43, CIFAR-10 Batch 1:  Loss:  0.19027314  Validation Accuracy:  0.6388\n",
      "Epoch 43, CIFAR-10 Batch 2:  Loss:  0.10899846  Validation Accuracy:  0.6126\n",
      "Epoch 43, CIFAR-10 Batch 3:  Loss:  0.11244365  Validation Accuracy:  0.6158\n"
     ]
    },
    {
     "name": "stdout",
     "output_type": "stream",
     "text": [
      "Epoch 43, CIFAR-10 Batch 4:  Loss:  0.18660066  Validation Accuracy:  0.6256\n",
      "Epoch 43, CIFAR-10 Batch 5:  Loss:  0.14314131  Validation Accuracy:  0.619\n",
      "Epoch 44, CIFAR-10 Batch 1:  Loss:  0.18736352  Validation Accuracy:  0.6178\n",
      "Epoch 44, CIFAR-10 Batch 2:  Loss:  0.0935727  Validation Accuracy:  0.6098\n",
      "Epoch 44, CIFAR-10 Batch 3:  Loss:  0.12139554  Validation Accuracy:  0.6128\n",
      "Epoch 44, CIFAR-10 Batch 4:  Loss:  0.21591854  Validation Accuracy:  0.6156\n",
      "Epoch 44, CIFAR-10 Batch 5:  Loss:  0.0931165  Validation Accuracy:  0.6276\n",
      "Epoch 45, CIFAR-10 Batch 1:  Loss:  0.19054551  Validation Accuracy:  0.6092\n",
      "Epoch 45, CIFAR-10 Batch 2:  Loss:  0.12243359  Validation Accuracy:  0.615\n",
      "Epoch 45, CIFAR-10 Batch 3:  Loss:  0.095133886  Validation Accuracy:  0.6164\n",
      "Epoch 45, CIFAR-10 Batch 4:  Loss:  0.15454367  Validation Accuracy:  0.6046\n",
      "Epoch 45, CIFAR-10 Batch 5:  Loss:  0.09898127  Validation Accuracy:  0.6228\n",
      "Epoch 46, CIFAR-10 Batch 1:  Loss:  0.23902874  Validation Accuracy:  0.5908\n",
      "Epoch 46, CIFAR-10 Batch 2:  Loss:  0.12281215  Validation Accuracy:  0.6096\n",
      "Epoch 46, CIFAR-10 Batch 3:  Loss:  0.10328746  Validation Accuracy:  0.6232\n",
      "Epoch 46, CIFAR-10 Batch 4:  Loss:  0.155425  Validation Accuracy:  0.627\n",
      "Epoch 46, CIFAR-10 Batch 5:  Loss:  0.085779145  Validation Accuracy:  0.627\n",
      "Epoch 47, CIFAR-10 Batch 1:  Loss:  0.18591262  Validation Accuracy:  0.6024\n",
      "Epoch 47, CIFAR-10 Batch 2:  Loss:  0.10183754  Validation Accuracy:  0.6156\n",
      "Epoch 47, CIFAR-10 Batch 3:  Loss:  0.09327265  Validation Accuracy:  0.6334\n",
      "Epoch 47, CIFAR-10 Batch 4:  Loss:  0.16176268  Validation Accuracy:  0.6284\n",
      "Epoch 47, CIFAR-10 Batch 5:  Loss:  0.0978827  Validation Accuracy:  0.631\n",
      "Epoch 48, CIFAR-10 Batch 1:  Loss:  0.19225892  Validation Accuracy:  0.628\n",
      "Epoch 48, CIFAR-10 Batch 2:  Loss:  0.12568632  Validation Accuracy:  0.6116\n",
      "Epoch 48, CIFAR-10 Batch 3:  Loss:  0.08616883  Validation Accuracy:  0.6264\n",
      "Epoch 48, CIFAR-10 Batch 4:  Loss:  0.13198534  Validation Accuracy:  0.6308\n",
      "Epoch 48, CIFAR-10 Batch 5:  Loss:  0.07168569  Validation Accuracy:  0.6266\n",
      "Epoch 49, CIFAR-10 Batch 1:  Loss:  0.2191823  Validation Accuracy:  0.6178\n",
      "Epoch 49, CIFAR-10 Batch 2:  Loss:  0.09912041  Validation Accuracy:  0.6078\n",
      "Epoch 49, CIFAR-10 Batch 3:  Loss:  0.055519916  Validation Accuracy:  0.6314\n",
      "Epoch 49, CIFAR-10 Batch 4:  Loss:  0.11587193  Validation Accuracy:  0.6344\n",
      "Epoch 49, CIFAR-10 Batch 5:  Loss:  0.08967503  Validation Accuracy:  0.6388\n",
      "Epoch 50, CIFAR-10 Batch 1:  Loss:  0.21436663  Validation Accuracy:  0.6186\n",
      "Epoch 50, CIFAR-10 Batch 2:  Loss:  0.086405165  Validation Accuracy:  0.6248\n",
      "Epoch 50, CIFAR-10 Batch 3:  Loss:  0.07320033  Validation Accuracy:  0.633\n",
      "Epoch 50, CIFAR-10 Batch 4:  Loss:  0.15310922  Validation Accuracy:  0.6292\n",
      "Epoch 50, CIFAR-10 Batch 5:  Loss:  0.07330952  Validation Accuracy:  0.6418\n"
     ]
    }
   ],
   "source": [
    "\"\"\"\n",
    "DON'T MODIFY ANYTHING IN THIS CELL\n",
    "\"\"\"\n",
    "save_model_path = './image_classification'\n",
    "\n",
    "print('Training...')\n",
    "with tf.Session() as sess:\n",
    "    # Initializing the variables\n",
    "    sess.run(tf.global_variables_initializer())\n",
    "    \n",
    "    # Training cycle\n",
    "    for epoch in range(epochs):\n",
    "        # Loop over all batches\n",
    "        n_batches = 5\n",
    "        for batch_i in range(1, n_batches + 1):\n",
    "            for batch_features, batch_labels in helper.load_preprocess_training_batch(batch_i, batch_size):\n",
    "                train_neural_network(sess, optimizer, keep_probability, batch_features, batch_labels)\n",
    "            print('Epoch {:>2}, CIFAR-10 Batch {}:  '.format(epoch + 1, batch_i), end='')\n",
    "            print_stats(sess, batch_features, batch_labels, cost, accuracy)\n",
    "            \n",
    "    # Save Model\n",
    "    saver = tf.train.Saver()\n",
    "    save_path = saver.save(sess, save_model_path)"
   ]
  },
  {
   "cell_type": "markdown",
   "metadata": {},
   "source": [
    "# Checkpoint\n",
    "The model has been saved to disk.\n",
    "## Test Model\n",
    "Test your model against the test dataset.  This will be your final accuracy. You should have an accuracy greater than 50%. If you don't, keep tweaking the model architecture and parameters."
   ]
  },
  {
   "cell_type": "code",
   "execution_count": 35,
   "metadata": {},
   "outputs": [
    {
     "name": "stdout",
     "output_type": "stream",
     "text": [
      "INFO:tensorflow:Restoring parameters from ./image_classification\n",
      "Testing Accuracy: 0.6333984375\n",
      "\n"
     ]
    },
    {
     "data": {
      "image/png": "[encoded data removed]",
      "text/plain": [
       "<matplotlib.figure.Figure at 0x1568c128>"
      ]
     },
     "metadata": {
      "image/png": {
       "height": 319,
       "width": 355
      }
     },
     "output_type": "display_data"
    }
   ],
   "source": [
    "\"\"\"\n",
    "DON'T MODIFY ANYTHING IN THIS CELL\n",
    "\"\"\"\n",
    "%matplotlib inline\n",
    "%config InlineBackend.figure_format = 'retina'\n",
    "\n",
    "import tensorflow as tf\n",
    "import pickle\n",
    "import helper\n",
    "import random\n",
    "\n",
    "# Set batch size if not already set\n",
    "try:\n",
    "    if batch_size:\n",
    "        pass\n",
    "except NameError:\n",
    "    batch_size = 64\n",
    "\n",
    "save_model_path = './image_classification'\n",
    "n_samples = 4\n",
    "top_n_predictions = 3\n",
    "\n",
    "def test_model():\n",
    "    \"\"\"\n",
    "    Test the saved model against the test dataset\n",
    "    \"\"\"\n",
    "\n",
    "    test_features, test_labels = pickle.load(open('preprocess_training.p', mode='rb'))\n",
    "    loaded_graph = tf.Graph()\n",
    "\n",
    "    with tf.Session(graph=loaded_graph) as sess:\n",
    "        # Load model\n",
    "        loader = tf.train.import_meta_graph(save_model_path + '.meta')\n",
    "        loader.restore(sess, save_model_path)\n",
    "\n",
    "        # Get Tensors from loaded model\n",
    "        loaded_x = loaded_graph.get_tensor_by_name('x:0')\n",
    "        loaded_y = loaded_graph.get_tensor_by_name('y:0')\n",
    "        loaded_keep_prob = loaded_graph.get_tensor_by_name('keep_prob:0')\n",
    "        loaded_logits = loaded_graph.get_tensor_by_name('logits:0')\n",
    "        loaded_acc = loaded_graph.get_tensor_by_name('accuracy:0')\n",
    "        \n",
    "        # Get accuracy in batches for memory limitations\n",
    "        test_batch_acc_total = 0\n",
    "        test_batch_count = 0\n",
    "        \n",
    "        for train_feature_batch, train_label_batch in helper.batch_features_labels(test_features, test_labels, batch_size):\n",
    "            test_batch_acc_total += sess.run(\n",
    "                loaded_acc,\n",
    "                feed_dict={loaded_x: train_feature_batch, loaded_y: train_label_batch, loaded_keep_prob: 1.0})\n",
    "            test_batch_count += 1\n",
    "\n",
    "        print('Testing Accuracy: {}\\n'.format(test_batch_acc_total/test_batch_count))\n",
    "\n",
    "        # Print Random Samples\n",
    "        random_test_features, random_test_labels = tuple(zip(*random.sample(list(zip(test_features, test_labels)), n_samples)))\n",
    "        random_test_predictions = sess.run(\n",
    "            tf.nn.top_k(tf.nn.softmax(loaded_logits), top_n_predictions),\n",
    "            feed_dict={loaded_x: random_test_features, loaded_y: random_test_labels, loaded_keep_prob: 1.0})\n",
    "        helper.display_image_predictions(random_test_features, random_test_labels, random_test_predictions)\n",
    "\n",
    "\n",
    "test_model()"
   ]
  },
  {
   "cell_type": "markdown",
   "metadata": {},
   "source": [
    "## Why 50-80% Accuracy?\n",
    "You might be wondering why you can't get an accuracy any higher. First things first, 50% isn't bad for a simple CNN.  Pure guessing would get you 10% accuracy. That's because there are many more techniques that can be applied to your model and we recemmond that once you are done with this project, you explore!\n",
    "\n",
    "## Submitting This Project\n",
    "When submitting this project, make sure to run all the cells before saving the notebook.  Save the notebook file as \"image_classification.ipynb\" and save it as a HTML file under \"File\" -> \"Download as\".  Include the \"helper.py\" and \"problem_unittests.py\" files in your submission."
   ]
  }
 ],
 "metadata": {
  "kernelspec": {
   "display_name": "Python 3",
   "language": "python",
   "name": "python3"
  },
  "language_info": {
   "codemirror_mode": {
    "name": "ipython",
    "version": 3
   },
   "file_extension": ".py",
   "mimetype": "text/x-python",
   "name": "python",
   "nbconvert_exporter": "python",
   "pygments_lexer": "ipython3",
   "version": "3.5.4"
  }
 },
 "nbformat": 4,
 "nbformat_minor": 2
}
