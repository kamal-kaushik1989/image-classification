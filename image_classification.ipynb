{
 "cells": [
  {
   "cell_type": "markdown",
   "metadata": {},
   "source": [
    "# Image Classification\n",
    "In this project, you'll classify images from the [CIFAR-10 dataset](https://www.cs.toronto.edu/~kriz/cifar.html).  The dataset consists of airplanes, dogs, cats, and other objects. You'll preprocess the images, then train a convolutional neural network on all the samples. The images need to be normalized and the labels need to be one-hot encoded.  You'll get to apply what you learned and build a convolutional, max pooling, dropout, and fully connected layers.  At the end, you'll get to see your neural network's predictions on the sample images.\n",
    "## Get the Data\n",
    "Run the following cell to download the [CIFAR-10 dataset for python](https://www.cs.toronto.edu/~kriz/cifar-10-python.tar.gz)."
   ]
  },
  {
   "cell_type": "code",
   "execution_count": 4,
   "metadata": {},
   "outputs": [
    {
     "name": "stdout",
     "output_type": "stream",
     "text": [
      "All files found!\n"
     ]
    }
   ],
   "source": [
    "\"\"\"\n",
    "DON'T MODIFY ANYTHING IN THIS CELL THAT IS BELOW THIS LINE\n",
    "\"\"\"\n",
    "from urllib.request import urlretrieve\n",
    "from os.path import isfile, isdir\n",
    "from tqdm import tqdm\n",
    "import problem_unittests as tests\n",
    "import tarfile\n",
    "\n",
    "cifar10_dataset_folder_path = 'cifar-10-batches-py'\n",
    "\n",
    "class DLProgress(tqdm):\n",
    "    last_block = 0\n",
    "\n",
    "    def hook(self, block_num=1, block_size=1, total_size=None):\n",
    "        self.total = total_size\n",
    "        self.update((block_num - self.last_block) * block_size)\n",
    "        self.last_block = block_num\n",
    "\n",
    "if not isfile('cifar-10-python.tar.gz'):\n",
    "    with DLProgress(unit='B', unit_scale=True, miniters=1, desc='CIFAR-10 Dataset') as pbar:\n",
    "        urlretrieve(\n",
    "            'https://www.cs.toronto.edu/~kriz/cifar-10-python.tar.gz',\n",
    "            'cifar-10-python.tar.gz',\n",
    "            pbar.hook)\n",
    "\n",
    "if not isdir(cifar10_dataset_folder_path):\n",
    "    with tarfile.open('cifar-10-python.tar.gz') as tar:\n",
    "        tar.extractall()\n",
    "        tar.close()\n",
    "\n",
    "\n",
    "tests.test_folder_path(cifar10_dataset_folder_path)"
   ]
  },
  {
   "cell_type": "markdown",
   "metadata": {},
   "source": [
    "## Explore the Data\n",
    "The dataset is broken into batches to prevent your machine from running out of memory.  The CIFAR-10 dataset consists of 5 batches, named `data_batch_1`, `data_batch_2`, etc.. Each batch contains the labels and images that are one of the following:\n",
    "* airplane\n",
    "* automobile\n",
    "* bird\n",
    "* cat\n",
    "* deer\n",
    "* dog\n",
    "* frog\n",
    "* horse\n",
    "* ship\n",
    "* truck\n",
    "\n",
    "Understanding a dataset is part of making predictions on the data.  Play around with the code cell below by changing the `batch_id` and `sample_id`. The `batch_id` is the id for a batch (1-5). The `sample_id` is the id for a image and label pair in the batch.\n",
    "\n",
    "Ask yourself \"What are all possible labels?\", \"What is the range of values for the image data?\", \"Are the labels in order or random?\".  Answers to questions like these will help you preprocess the data and end up with better predictions."
   ]
  },
  {
   "cell_type": "code",
   "execution_count": 5,
   "metadata": {},
   "outputs": [
    {
     "name": "stdout",
     "output_type": "stream",
     "text": [
      "\n",
      "Stats of batch 3:\n",
      "Samples: 10000\n",
      "Label Counts: {0: 994, 1: 1042, 2: 965, 3: 997, 4: 990, 5: 1029, 6: 978, 7: 1015, 8: 961, 9: 1029}\n",
      "First 20 Labels: [8, 5, 0, 6, 9, 2, 8, 3, 6, 2, 7, 4, 6, 9, 0, 0, 7, 3, 7, 2]\n",
      "\n",
      "Example of Image 1000:\n",
      "Image - Min Value: 37 Max Value: 230\n",
      "Image - Shape: (32, 32, 3)\n",
      "Label - Label Id: 0 Name: airplane\n"
     ]
    },
    {
     "data": {
      "image/png": "[encoded data removed]",
      "text/plain": [
       "<matplotlib.figure.Figure at 0x1030e6a0>"
      ]
     },
     "metadata": {
      "image/png": {
       "height": 250,
       "width": 253
      }
     },
     "output_type": "display_data"
    }
   ],
   "source": [
    "%matplotlib inline\n",
    "%config InlineBackend.figure_format = 'retina'\n",
    "\n",
    "import helper\n",
    "import numpy as np\n",
    "\n",
    "# Explore the dataset\n",
    "batch_id = 3\n",
    "sample_id = 1000\n",
    "helper.display_stats(cifar10_dataset_folder_path, batch_id, sample_id)"
   ]
  },
  {
   "cell_type": "markdown",
   "metadata": {},
   "source": [
    "## Implement Preprocess Functions\n",
    "### Normalize\n",
    "In the cell below, implement the `normalize` function to take in image data, `x`, and return it as a normalized Numpy array. The values should be in the range of 0 to 1, inclusive.  The return object should be the same shape as `x`."
   ]
  },
  {
   "cell_type": "code",
   "execution_count": 6,
   "metadata": {},
   "outputs": [
    {
     "name": "stdout",
     "output_type": "stream",
     "text": [
      "Tests Passed\n"
     ]
    }
   ],
   "source": [
    "def normalize(x):\n",
    "    \"\"\"\n",
    "    Normalize a list of sample image data in the range of 0 to 1\n",
    "    : x: List of image data.  The image shape is (32, 32, 3)\n",
    "    : return: Numpy array of normalize data\n",
    "    \"\"\"\n",
    "    return np.array(x / 255)\n",
    "\n",
    "\n",
    "\"\"\"\n",
    "DON'T MODIFY ANYTHING IN THIS CELL THAT IS BELOW THIS LINE\n",
    "\"\"\"\n",
    "tests.test_normalize(normalize)"
   ]
  },
  {
   "cell_type": "markdown",
   "metadata": {},
   "source": [
    "### One-hot encode\n",
    "Just like the previous code cell, you'll be implementing a function for preprocessing.  This time, you'll implement the `one_hot_encode` function. The input, `x`, are a list of labels.  Implement the function to return the list of labels as One-Hot encoded Numpy array.  The possible values for labels are 0 to 9. The one-hot encoding function should return the same encoding for each value between each call to `one_hot_encode`.  Make sure to save the map of encodings outside the function.\n",
    "\n",
    "**Hint:**\n",
    "\n",
    "Look into LabelBinarizer in the preprocessing module of sklearn."
   ]
  },
  {
   "cell_type": "code",
   "execution_count": 12,
   "metadata": {},
   "outputs": [
    {
     "name": "stdout",
     "output_type": "stream",
     "text": [
      "Tests Passed\n"
     ]
    }
   ],
   "source": [
    "from sklearn.preprocessing import OneHotEncoder\n",
    "\n",
    "encoded_labels = {}\n",
    "\n",
    "def one_hot_encode(x):\n",
    "    \"\"\"\n",
    "    One hot encode a list of sample labels. Return a one-hot encoded vector for each label.\n",
    "    : x: List of sample Labels\n",
    "    : return: Numpy array of one-hot encoded labels\n",
    "    \"\"\"\n",
    "    return encode_helper(x, 10)\n",
    "\n",
    "def encode_helper(x, n_values):\n",
    "    enc = OneHotEncoder(n_values)    \n",
    "    encoded_labels = enc.fit_transform(np.array(x).reshape(-1,1)).toarray()\n",
    "    return encoded_labels\n",
    "\n",
    "\"\"\"\n",
    "DON'T MODIFY ANYTHING IN THIS CELL THAT IS BELOW THIS LINE\n",
    "\"\"\"\n",
    "tests.test_one_hot_encode(one_hot_encode)"
   ]
  },
  {
   "cell_type": "markdown",
   "metadata": {},
   "source": [
    "### Randomize Data\n",
    "As you saw from exploring the data above, the order of the samples are randomized.  It doesn't hurt to randomize it again, but you don't need to for this dataset."
   ]
  },
  {
   "cell_type": "markdown",
   "metadata": {},
   "source": [
    "## Preprocess all the data and save it\n",
    "Running the code cell below will preprocess all the CIFAR-10 data and save it to file. The code below also uses 10% of the training data for validation."
   ]
  },
  {
   "cell_type": "code",
   "execution_count": 13,
   "metadata": {},
   "outputs": [],
   "source": [
    "\"\"\"\n",
    "DON'T MODIFY ANYTHING IN THIS CELL\n",
    "\"\"\"\n",
    "# Preprocess Training, Validation, and Testing Data\n",
    "helper.preprocess_and_save_data(cifar10_dataset_folder_path, normalize, one_hot_encode)"
   ]
  },
  {
   "cell_type": "markdown",
   "metadata": {},
   "source": [
    "# Check Point\n",
    "This is your first checkpoint.  If you ever decide to come back to this notebook or have to restart the notebook, you can start from here.  The preprocessed data has been saved to disk."
   ]
  },
  {
   "cell_type": "code",
   "execution_count": 2,
   "metadata": {},
   "outputs": [],
   "source": [
    "\"\"\"\n",
    "DON'T MODIFY ANYTHING IN THIS CELL\n",
    "\"\"\"\n",
    "import pickle\n",
    "import problem_unittests as tests\n",
    "import helper\n",
    "\n",
    "# Load the Preprocessed Validation data\n",
    "valid_features, valid_labels = pickle.load(open('preprocess_validation.p', mode='rb'))"
   ]
  },
  {
   "cell_type": "markdown",
   "metadata": {},
   "source": [
    "## Build the network\n",
    "For the neural network, you'll build each layer into a function.  Most of the code you've seen has been outside of functions. To test your code more thoroughly, we require that you put each layer in a function.  This allows us to give you better feedback and test for simple mistakes using our unittests before you submit your project.\n",
    "\n",
    ">**Note:** If you're finding it hard to dedicate enough time for this course each week, we've provided a small shortcut to this part of the project. In the next couple of problems, you'll have the option to use classes from the [TensorFlow Layers](https://www.tensorflow.org/api_docs/python/tf/layers) or [TensorFlow Layers (contrib)](https://www.tensorflow.org/api_guides/python/contrib.layers) packages to build each layer, except the layers you build in the \"Convolutional and Max Pooling Layer\" section.  TF Layers is similar to Keras's and TFLearn's abstraction to layers, so it's easy to pickup.\n",
    "\n",
    ">However, if you would like to get the most out of this course, try to solve all the problems _without_ using anything from the TF Layers packages. You **can** still use classes from other packages that happen to have the same name as ones you find in TF Layers! For example, instead of using the TF Layers version of the `conv2d` class, [tf.layers.conv2d](https://www.tensorflow.org/api_docs/python/tf/layers/conv2d), you would want to use the TF Neural Network version of `conv2d`, [tf.nn.conv2d](https://www.tensorflow.org/api_docs/python/tf/nn/conv2d). \n",
    "\n",
    "Let's begin!\n",
    "\n",
    "### Input\n",
    "The neural network needs to read the image data, one-hot encoded labels, and dropout keep probability. Implement the following functions\n",
    "* Implement `neural_net_image_input`\n",
    " * Return a [TF Placeholder](https://www.tensorflow.org/api_docs/python/tf/placeholder)\n",
    " * Set the shape using `image_shape` with batch size set to `None`.\n",
    " * Name the TensorFlow placeholder \"x\" using the TensorFlow `name` parameter in the [TF Placeholder](https://www.tensorflow.org/api_docs/python/tf/placeholder).\n",
    "* Implement `neural_net_label_input`\n",
    " * Return a [TF Placeholder](https://www.tensorflow.org/api_docs/python/tf/placeholder)\n",
    " * Set the shape using `n_classes` with batch size set to `None`.\n",
    " * Name the TensorFlow placeholder \"y\" using the TensorFlow `name` parameter in the [TF Placeholder](https://www.tensorflow.org/api_docs/python/tf/placeholder).\n",
    "* Implement `neural_net_keep_prob_input`\n",
    " * Return a [TF Placeholder](https://www.tensorflow.org/api_docs/python/tf/placeholder) for dropout keep probability.\n",
    " * Name the TensorFlow placeholder \"keep_prob\" using the TensorFlow `name` parameter in the [TF Placeholder](https://www.tensorflow.org/api_docs/python/tf/placeholder).\n",
    "\n",
    "These names will be used at the end of the project to load your saved model.\n",
    "\n",
    "Note: `None` for shapes in TensorFlow allow for a dynamic size."
   ]
  },
  {
   "cell_type": "code",
   "execution_count": 5,
   "metadata": {},
   "outputs": [
    {
     "name": "stdout",
     "output_type": "stream",
     "text": [
      "Image Input Tests Passed.\n",
      "Label Input Tests Passed.\n",
      "Keep Prob Tests Passed.\n"
     ]
    }
   ],
   "source": [
    "import tensorflow as tf\n",
    "\n",
    "def neural_net_image_input(image_shape):\n",
    "    \"\"\"\n",
    "    Return a Tensor for a batch of image input\n",
    "    : image_shape: Shape of the images\n",
    "    : return: Tensor for image input.\n",
    "    \"\"\"\n",
    "    shape = [None]\n",
    "    shape.extend(image_shape)\n",
    "    return tf.placeholder(tf.float32, shape=shape, name='x')\n",
    "\n",
    "def neural_net_label_input(n_classes):\n",
    "    \"\"\"\n",
    "    Return a Tensor for a batch of label input\n",
    "    : n_classes: Number of classes\n",
    "    : return: Tensor for label input.\n",
    "    \"\"\"\n",
    "    return tf.placeholder(tf.float32, shape=(None, n_classes), name='y')\n",
    "\n",
    "\n",
    "def neural_net_keep_prob_input():\n",
    "    \"\"\"\n",
    "    Return a Tensor for keep probability\n",
    "    : return: Tensor for keep probability.\n",
    "    \"\"\"\n",
    "    return tf.placeholder(tf.float32, name='keep_prob')\n",
    "\n",
    "\n",
    "\"\"\"\n",
    "DON'T MODIFY ANYTHING IN THIS CELL THAT IS BELOW THIS LINE\n",
    "\"\"\"\n",
    "tf.reset_default_graph()\n",
    "tests.test_nn_image_inputs(neural_net_image_input)\n",
    "tests.test_nn_label_inputs(neural_net_label_input)\n",
    "tests.test_nn_keep_prob_inputs(neural_net_keep_prob_input)"
   ]
  },
  {
   "cell_type": "markdown",
   "metadata": {},
   "source": [
    "### Convolution and Max Pooling Layer\n",
    "Convolution layers have a lot of success with images. For this code cell, you should implement the function `conv2d_maxpool` to apply convolution then max pooling:\n",
    "* Create the weight and bias using `conv_ksize`, `conv_num_outputs` and the shape of `x_tensor`.\n",
    "* Apply a convolution to `x_tensor` using weight and `conv_strides`.\n",
    " * We recommend you use same padding, but you're welcome to use any padding.\n",
    "* Add bias\n",
    "* Add a nonlinear activation to the convolution.\n",
    "* Apply Max Pooling using `pool_ksize` and `pool_strides`.\n",
    " * We recommend you use same padding, but you're welcome to use any padding.\n",
    "\n",
    "**Note:** You **can't** use [TensorFlow Layers](https://www.tensorflow.org/api_docs/python/tf/layers) or [TensorFlow Layers (contrib)](https://www.tensorflow.org/api_guides/python/contrib.layers) for **this** layer, but you can still use TensorFlow's [Neural Network](https://www.tensorflow.org/api_docs/python/tf/nn) package. You may still use the shortcut option for all the **other** layers.\n",
    "\n",
    "** Hint: **\n",
    "\n",
    "When unpacking values as an argument in Python, look into the [unpacking](https://docs.python.org/3/tutorial/controlflow.html#unpacking-argument-lists) operator. "
   ]
  },
  {
   "cell_type": "code",
   "execution_count": 8,
   "metadata": {},
   "outputs": [
    {
     "name": "stdout",
     "output_type": "stream",
     "text": [
      "Tests Passed\n"
     ]
    }
   ],
   "source": [
    "def conv2d_maxpool(x_tensor, conv_num_outputs, conv_ksize, conv_strides, pool_ksize, pool_strides):\n",
    "    \"\"\"\n",
    "    Apply convolution then max pooling to x_tensor\n",
    "    :param x_tensor: TensorFlow Tensor\n",
    "    :param conv_num_outputs: Number of outputs for the convolutional layer\n",
    "    :param conv_ksize: kernal size 2-D Tuple for the convolutional layer\n",
    "    :param conv_strides: Stride 2-D Tuple for convolution\n",
    "    :param pool_ksize: kernal size 2-D Tuple for pool\n",
    "    :param pool_strides: Stride 2-D Tuple for pool\n",
    "    : return: A tensor that represents convolution and max pooling of x_tensor\n",
    "    \"\"\"\n",
    "    \n",
    "    depth = x_tensor.get_shape().as_list()[3]\n",
    "    weight =tf.Variable(tf.truncated_normal([*conv_ksize, depth, conv_num_outputs], stddev=0.01))\n",
    "    bias = tf.Variable(tf.zeros(conv_num_outputs, dtype=tf.float32))\n",
    "    \n",
    "    padding = 'SAME'\n",
    "    \n",
    "    # 2D Convolution Layer.\n",
    "    strides = [1, conv_strides[0], conv_strides[1], 1]\n",
    "    conv_layer = tf.nn.conv2d(x_tensor, weight, strides=strides, padding=padding)\n",
    "    conv_layer = tf.nn.bias_add(conv_layer, bias)\n",
    "    conv_layer = tf.nn.relu(conv_layer)\n",
    "    \n",
    "    # Applying Max Pooling\n",
    "    conv_layer = tf.nn.max_pool(conv_layer, ksize=[1, pool_ksize[0], pool_ksize[1], 1], \n",
    "                            strides=[1, pool_strides[0], pool_strides[1], 1], padding=padding)  \n",
    "    return conv_layer \n",
    "\n",
    "\n",
    "\"\"\"\n",
    "DON'T MODIFY ANYTHING IN THIS CELL THAT IS BELOW THIS LINE\n",
    "\"\"\"\n",
    "tests.test_con_pool(conv2d_maxpool)"
   ]
  },
  {
   "cell_type": "markdown",
   "metadata": {},
   "source": [
    "### Flatten Layer\n",
    "Implement the `flatten` function to change the dimension of `x_tensor` from a 4-D tensor to a 2-D tensor.  The output should be the shape (*Batch Size*, *Flattened Image Size*). Shortcut option: you can use classes from the [TensorFlow Layers](https://www.tensorflow.org/api_docs/python/tf/layers) or [TensorFlow Layers (contrib)](https://www.tensorflow.org/api_guides/python/contrib.layers) packages for this layer. For more of a challenge, only use other TensorFlow packages."
   ]
  },
  {
   "cell_type": "code",
   "execution_count": 9,
   "metadata": {},
   "outputs": [
    {
     "name": "stdout",
     "output_type": "stream",
     "text": [
      "Tests Passed\n"
     ]
    }
   ],
   "source": [
    "def flatten(x_tensor):\n",
    "    \"\"\"\n",
    "    Flatten x_tensor to (Batch Size, Flattened Image Size)\n",
    "    : x_tensor: A tensor of size (Batch Size, ...), where ... are the image dimensions.\n",
    "    : return: A tensor of size (Batch Size, Flattened Image Size).\n",
    "    \"\"\"\n",
    "    return tf.contrib.layers.flatten(x_tensor, outputs_collections=None, scope=None)\n",
    "\n",
    "\n",
    "\"\"\"\n",
    "DON'T MODIFY ANYTHING IN THIS CELL THAT IS BELOW THIS LINE\n",
    "\"\"\"\n",
    "tests.test_flatten(flatten)"
   ]
  },
  {
   "cell_type": "markdown",
   "metadata": {},
   "source": [
    "### Fully-Connected Layer\n",
    "Implement the `fully_conn` function to apply a fully connected layer to `x_tensor` with the shape (*Batch Size*, *num_outputs*). Shortcut option: you can use classes from the [TensorFlow Layers](https://www.tensorflow.org/api_docs/python/tf/layers) or [TensorFlow Layers (contrib)](https://www.tensorflow.org/api_guides/python/contrib.layers) packages for this layer. For more of a challenge, only use other TensorFlow packages."
   ]
  },
  {
   "cell_type": "code",
   "execution_count": 10,
   "metadata": {},
   "outputs": [
    {
     "name": "stdout",
     "output_type": "stream",
     "text": [
      "Tests Passed\n"
     ]
    }
   ],
   "source": [
    "def fully_conn(x_tensor, num_outputs):\n",
    "    \"\"\"\n",
    "    Apply a fully connected layer to x_tensor using weight and bias\n",
    "    : x_tensor: A 2-D tensor where the first dimension is batch size.\n",
    "    : num_outputs: The number of output that the new tensor should be.\n",
    "    : return: A 2-D tensor where the second dimension is num_outputs.\n",
    "    \"\"\"\n",
    "    return tf.contrib.layers.fully_connected(x_tensor, num_outputs, activation_fn = tf.nn.relu)\n",
    "\n",
    "\n",
    "\"\"\"\n",
    "DON'T MODIFY ANYTHING IN THIS CELL THAT IS BELOW THIS LINE\n",
    "\"\"\"\n",
    "tests.test_fully_conn(fully_conn)"
   ]
  },
  {
   "cell_type": "markdown",
   "metadata": {},
   "source": [
    "### Output Layer\n",
    "Implement the `output` function to apply a fully connected layer to `x_tensor` with the shape (*Batch Size*, *num_outputs*). Shortcut option: you can use classes from the [TensorFlow Layers](https://www.tensorflow.org/api_docs/python/tf/layers) or [TensorFlow Layers (contrib)](https://www.tensorflow.org/api_guides/python/contrib.layers) packages for this layer. For more of a challenge, only use other TensorFlow packages.\n",
    "\n",
    "**Note:** Activation, softmax, or cross entropy should **not** be applied to this."
   ]
  },
  {
   "cell_type": "code",
   "execution_count": 11,
   "metadata": {},
   "outputs": [
    {
     "name": "stdout",
     "output_type": "stream",
     "text": [
      "Tests Passed\n"
     ]
    }
   ],
   "source": [
    "def output(x_tensor, num_outputs):\n",
    "    \"\"\"\n",
    "    Apply a output layer to x_tensor using weight and bias\n",
    "    : x_tensor: A 2-D tensor where the first dimension is batch size.\n",
    "    : num_outputs: The number of output that the new tensor should be.\n",
    "    : return: A 2-D tensor where the second dimension is num_outputs.\n",
    "    \"\"\"\n",
    "    return tf.contrib.layers.fully_connected(x_tensor, num_outputs)\n",
    "\n",
    "\n",
    "\"\"\"\n",
    "DON'T MODIFY ANYTHING IN THIS CELL THAT IS BELOW THIS LINE\n",
    "\"\"\"\n",
    "tests.test_output(output)"
   ]
  },
  {
   "cell_type": "markdown",
   "metadata": {},
   "source": [
    "### Create Convolutional Model\n",
    "Implement the function `conv_net` to create a convolutional neural network model. The function takes in a batch of images, `x`, and outputs logits.  Use the layers you created above to create this model:\n",
    "\n",
    "* Apply 1, 2, or 3 Convolution and Max Pool layers\n",
    "* Apply a Flatten Layer\n",
    "* Apply 1, 2, or 3 Fully Connected Layers\n",
    "* Apply an Output Layer\n",
    "* Return the output\n",
    "* Apply [TensorFlow's Dropout](https://www.tensorflow.org/api_docs/python/tf/nn/dropout) to one or more layers in the model using `keep_prob`. "
   ]
  },
  {
   "cell_type": "code",
   "execution_count": 12,
   "metadata": {},
   "outputs": [
    {
     "name": "stdout",
     "output_type": "stream",
     "text": [
      "Neural Network Built!\n"
     ]
    }
   ],
   "source": [
    "def conv_net(x, keep_prob):\n",
    "    \"\"\"\n",
    "    Create a convolutional neural network model\n",
    "    : x: Placeholder tensor that holds image data.\n",
    "    : keep_prob: Placeholder tensor that hold dropout keep probability.\n",
    "    : return: Tensor that represents logits\n",
    "    \"\"\"\n",
    "    # TODO: Apply 1, 2, or 3 Convolution and Max Pool layers\n",
    "    #    Play around with different number of outputs, kernel size and stride\n",
    "    # Function Definition from Above:\n",
    "    #    conv2d_maxpool(x_tensor, conv_num_outputs, conv_ksize, conv_strides, pool_ksize, pool_strides)\n",
    "    \n",
    "    conv_layer_num_outputs = [48,96,192]\n",
    "\n",
    "    conv_layer_strides = [(2,2), (2,2), (2,2)]\n",
    "    conv_layer_ksize = [(4,4), (6,6), (8,8)]\n",
    "\n",
    "    pool_layer_ksize = (4,4)\n",
    "    pool_layer_strides = (2,2)\n",
    "    \n",
    "    #Applying max pool function\n",
    "    conv2d_maxpool_layer = conv2d_maxpool(x, conv_layer_num_outputs[0], conv_layer_ksize[0], conv_layer_strides[0],\n",
    "                                pool_layer_ksize, pool_layer_strides)\n",
    "    \n",
    "    conv2d_maxpool_layer = conv2d_maxpool(conv2d_maxpool_layer, conv_layer_num_outputs[1], conv_layer_ksize[1],\n",
    "                                          conv_layer_strides[1], pool_layer_ksize, pool_layer_strides)\n",
    "    \n",
    "    conv2d_maxpool_layer = conv2d_maxpool(conv2d_maxpool_layer, conv_layer_num_outputs[2], conv_layer_ksize[2],\n",
    "                                          conv_layer_strides[2], pool_layer_ksize, pool_layer_strides)\n",
    "\n",
    "    \n",
    "    # TODO: Apply a Flatten Layer\n",
    "    # Function Definition from Above:\n",
    "    #   flatten(x_tensor)\n",
    "    flatten_value = flatten(conv2d_maxpool_layer)\n",
    "\n",
    "    # TODO: Apply 1, 2, or 3 Fully Connected Layers\n",
    "    #    Play around with different number of outputs\n",
    "    # Function Definition from Above:\n",
    "    #   fully_conn(x_tensor, num_outputs)\n",
    "    fully_connected = fully_conn(flatten_value, 1024) \n",
    "    dropout = tf.nn.dropout(fully_connected, keep_prob)\n",
    "    \n",
    "    fully_connected = fully_conn(dropout, 512)\n",
    "    dropout = tf.nn.dropout(fully_connected, keep_prob)\n",
    "    \n",
    "    fully_connected = fully_conn(dropout, 256)\n",
    "    dropout = tf.nn.dropout(fully_connected, keep_prob)\n",
    "    \n",
    "    # TODO: Apply an Output Layer\n",
    "    #    Set this to the number of classes\n",
    "    # Function Definition from Above:\n",
    "    #   output(x_tensor, num_outputs)\n",
    "    result = output(dropout, 10)\n",
    "    \n",
    "    # TODO: return output\n",
    "    return result\n",
    "\n",
    "\n",
    "\"\"\"\n",
    "DON'T MODIFY ANYTHING IN THIS CELL THAT IS BELOW THIS LINE\n",
    "\"\"\"\n",
    "\n",
    "##############################\n",
    "## Build the Neural Network ##\n",
    "##############################\n",
    "\n",
    "# Remove previous weights, bias, inputs, etc..\n",
    "tf.reset_default_graph()\n",
    "\n",
    "# Inputs\n",
    "x = neural_net_image_input((32, 32, 3))\n",
    "y = neural_net_label_input(10)\n",
    "keep_prob = neural_net_keep_prob_input()\n",
    "\n",
    "# Model\n",
    "logits = conv_net(x, keep_prob)\n",
    "\n",
    "# Name logits Tensor, so that is can be loaded from disk after training\n",
    "logits = tf.identity(logits, name='logits')\n",
    "\n",
    "# Loss and Optimizer\n",
    "cost = tf.reduce_mean(tf.nn.softmax_cross_entropy_with_logits(logits=logits, labels=y))\n",
    "optimizer = tf.train.AdamOptimizer().minimize(cost)\n",
    "\n",
    "# Accuracy\n",
    "correct_pred = tf.equal(tf.argmax(logits, 1), tf.argmax(y, 1))\n",
    "accuracy = tf.reduce_mean(tf.cast(correct_pred, tf.float32), name='accuracy')\n",
    "\n",
    "tests.test_conv_net(conv_net)"
   ]
  },
  {
   "cell_type": "markdown",
   "metadata": {},
   "source": [
    "## Train the Neural Network\n",
    "### Single Optimization\n",
    "Implement the function `train_neural_network` to do a single optimization.  The optimization should use `optimizer` to optimize in `session` with a `feed_dict` of the following:\n",
    "* `x` for image input\n",
    "* `y` for labels\n",
    "* `keep_prob` for keep probability for dropout\n",
    "\n",
    "This function will be called for each batch, so `tf.global_variables_initializer()` has already been called.\n",
    "\n",
    "Note: Nothing needs to be returned. This function is only optimizing the neural network."
   ]
  },
  {
   "cell_type": "code",
   "execution_count": 13,
   "metadata": {},
   "outputs": [
    {
     "name": "stdout",
     "output_type": "stream",
     "text": [
      "Tests Passed\n"
     ]
    }
   ],
   "source": [
    "def train_neural_network(session, optimizer, keep_probability, feature_batch, label_batch):\n",
    "    \"\"\"\n",
    "    Optimize the session on a batch of images and labels\n",
    "    : session: Current TensorFlow session\n",
    "    : optimizer: TensorFlow optimizer function\n",
    "    : keep_probability: keep probability\n",
    "    : feature_batch: Batch of Numpy image data\n",
    "    : label_batch: Batch of Numpy label data\n",
    "    \"\"\"\n",
    "    session.run(optimizer, feed_dict={x: feature_batch, y: label_batch, keep_prob: keep_probability})\n",
    "\n",
    "\n",
    "\"\"\"\n",
    "DON'T MODIFY ANYTHING IN THIS CELL THAT IS BELOW THIS LINE\n",
    "\"\"\"\n",
    "tests.test_train_nn(train_neural_network)"
   ]
  },
  {
   "cell_type": "markdown",
   "metadata": {},
   "source": [
    "### Show Stats\n",
    "Implement the function `print_stats` to print loss and validation accuracy.  Use the global variables `valid_features` and `valid_labels` to calculate validation accuracy.  Use a keep probability of `1.0` to calculate the loss and validation accuracy."
   ]
  },
  {
   "cell_type": "code",
   "execution_count": 14,
   "metadata": {},
   "outputs": [],
   "source": [
    "def print_stats(session, feature_batch, label_batch, cost, accuracy):\n",
    "    \"\"\"\n",
    "    Print information about loss and validation accuracy\n",
    "    : session: Current TensorFlow session\n",
    "    : feature_batch: Batch of Numpy image data\n",
    "    : label_batch: Batch of Numpy label data\n",
    "    : cost: TensorFlow cost function\n",
    "    : accuracy: TensorFlow accuracy function\n",
    "    \"\"\"\n",
    "    loss = session.run(cost, feed_dict={x:feature_batch, y:label_batch, keep_prob: 1.0})\n",
    "    accuracy = session.run(accuracy, feed_dict={x: valid_features, y:valid_labels, keep_prob:1.0})\n",
    "    \n",
    "    print('Loss: ', loss, ' Validation Accuracy: ', accuracy)"
   ]
  },
  {
   "cell_type": "markdown",
   "metadata": {},
   "source": [
    "### Hyperparameters\n",
    "Tune the following parameters:\n",
    "* Set `epochs` to the number of iterations until the network stops learning or start overfitting\n",
    "* Set `batch_size` to the highest number that your machine has memory for.  Most people set them to common sizes of memory:\n",
    " * 64\n",
    " * 128\n",
    " * 256\n",
    " * ...\n",
    "* Set `keep_probability` to the probability of keeping a node using dropout"
   ]
  },
  {
   "cell_type": "code",
   "execution_count": 17,
   "metadata": {},
   "outputs": [],
   "source": [
    "# TODO: Tune Parameters\n",
    "epochs = 50\n",
    "batch_size = 256\n",
    "keep_probability = 0.5"
   ]
  },
  {
   "cell_type": "markdown",
   "metadata": {},
   "source": [
    "### Train on a Single CIFAR-10 Batch\n",
    "Instead of training the neural network on all the CIFAR-10 batches of data, let's use a single batch. This should save time while you iterate on the model to get a better accuracy.  Once the final validation accuracy is 50% or greater, run the model on all the data in the next section."
   ]
  },
  {
   "cell_type": "code",
   "execution_count": 16,
   "metadata": {},
   "outputs": [
    {
     "name": "stdout",
     "output_type": "stream",
     "text": [
      "Checking the Training on a Single Batch...\n",
      "Epoch  1, CIFAR-10 Batch 1:  Loss:  2.254564  Validation Accuracy:  0.1314\n",
      "Epoch  2, CIFAR-10 Batch 1:  Loss:  2.2744946  Validation Accuracy:  0.174\n",
      "Epoch  3, CIFAR-10 Batch 1:  Loss:  2.1101708  Validation Accuracy:  0.1918\n",
      "Epoch  4, CIFAR-10 Batch 1:  Loss:  1.999189  Validation Accuracy:  0.2394\n",
      "Epoch  5, CIFAR-10 Batch 1:  Loss:  1.8991112  Validation Accuracy:  0.2588\n",
      "Epoch  6, CIFAR-10 Batch 1:  Loss:  1.7019272  Validation Accuracy:  0.296\n",
      "Epoch  7, CIFAR-10 Batch 1:  Loss:  1.5758442  Validation Accuracy:  0.3218\n",
      "Epoch  8, CIFAR-10 Batch 1:  Loss:  1.535936  Validation Accuracy:  0.3206\n",
      "Epoch  9, CIFAR-10 Batch 1:  Loss:  1.3505995  Validation Accuracy:  0.3592\n",
      "Epoch 10, CIFAR-10 Batch 1:  Loss:  1.3020552  Validation Accuracy:  0.3584\n",
      "Epoch 11, CIFAR-10 Batch 1:  Loss:  1.2496365  Validation Accuracy:  0.3826\n",
      "Epoch 12, CIFAR-10 Batch 1:  Loss:  1.0878662  Validation Accuracy:  0.4088\n",
      "Epoch 13, CIFAR-10 Batch 1:  Loss:  1.0017102  Validation Accuracy:  0.4242\n",
      "Epoch 14, CIFAR-10 Batch 1:  Loss:  0.93783224  Validation Accuracy:  0.4138\n",
      "Epoch 15, CIFAR-10 Batch 1:  Loss:  0.8606917  Validation Accuracy:  0.4382\n",
      "Epoch 16, CIFAR-10 Batch 1:  Loss:  0.7997638  Validation Accuracy:  0.4518\n",
      "Epoch 17, CIFAR-10 Batch 1:  Loss:  0.81476575  Validation Accuracy:  0.4478\n",
      "Epoch 18, CIFAR-10 Batch 1:  Loss:  0.84978694  Validation Accuracy:  0.4264\n",
      "Epoch 19, CIFAR-10 Batch 1:  Loss:  0.76297736  Validation Accuracy:  0.453\n",
      "Epoch 20, CIFAR-10 Batch 1:  Loss:  0.73311675  Validation Accuracy:  0.4632\n",
      "Epoch 21, CIFAR-10 Batch 1:  Loss:  0.66378444  Validation Accuracy:  0.4716\n",
      "Epoch 22, CIFAR-10 Batch 1:  Loss:  0.5940164  Validation Accuracy:  0.465\n",
      "Epoch 23, CIFAR-10 Batch 1:  Loss:  0.6423059  Validation Accuracy:  0.4448\n",
      "Epoch 24, CIFAR-10 Batch 1:  Loss:  0.5851167  Validation Accuracy:  0.4844\n",
      "Epoch 25, CIFAR-10 Batch 1:  Loss:  0.54275113  Validation Accuracy:  0.4994\n",
      "Epoch 26, CIFAR-10 Batch 1:  Loss:  0.5171382  Validation Accuracy:  0.5076\n",
      "Epoch 27, CIFAR-10 Batch 1:  Loss:  0.48501223  Validation Accuracy:  0.5042\n",
      "Epoch 28, CIFAR-10 Batch 1:  Loss:  0.5173165  Validation Accuracy:  0.4858\n",
      "Epoch 29, CIFAR-10 Batch 1:  Loss:  0.47743025  Validation Accuracy:  0.4946\n",
      "Epoch 30, CIFAR-10 Batch 1:  Loss:  0.41144142  Validation Accuracy:  0.5154\n",
      "Epoch 31, CIFAR-10 Batch 1:  Loss:  0.39180678  Validation Accuracy:  0.5026\n",
      "Epoch 32, CIFAR-10 Batch 1:  Loss:  0.38105977  Validation Accuracy:  0.4834\n",
      "Epoch 33, CIFAR-10 Batch 1:  Loss:  0.44060403  Validation Accuracy:  0.4678\n",
      "Epoch 34, CIFAR-10 Batch 1:  Loss:  0.4910658  Validation Accuracy:  0.4832\n",
      "Epoch 35, CIFAR-10 Batch 1:  Loss:  0.5230562  Validation Accuracy:  0.4842\n",
      "Epoch 36, CIFAR-10 Batch 1:  Loss:  0.55119026  Validation Accuracy:  0.4718\n",
      "Epoch 37, CIFAR-10 Batch 1:  Loss:  0.35385376  Validation Accuracy:  0.481\n",
      "Epoch 38, CIFAR-10 Batch 1:  Loss:  0.32951966  Validation Accuracy:  0.5016\n",
      "Epoch 39, CIFAR-10 Batch 1:  Loss:  0.37393877  Validation Accuracy:  0.4716\n",
      "Epoch 40, CIFAR-10 Batch 1:  Loss:  0.32758874  Validation Accuracy:  0.4532\n",
      "Epoch 41, CIFAR-10 Batch 1:  Loss:  0.2746213  Validation Accuracy:  0.4818\n",
      "Epoch 42, CIFAR-10 Batch 1:  Loss:  0.27355662  Validation Accuracy:  0.4864\n",
      "Epoch 43, CIFAR-10 Batch 1:  Loss:  0.27934116  Validation Accuracy:  0.5048\n",
      "Epoch 44, CIFAR-10 Batch 1:  Loss:  0.27945924  Validation Accuracy:  0.5066\n",
      "Epoch 45, CIFAR-10 Batch 1:  Loss:  0.26117292  Validation Accuracy:  0.5134\n",
      "Epoch 46, CIFAR-10 Batch 1:  Loss:  0.26201743  Validation Accuracy:  0.4618\n",
      "Epoch 47, CIFAR-10 Batch 1:  Loss:  0.22356412  Validation Accuracy:  0.4698\n",
      "Epoch 48, CIFAR-10 Batch 1:  Loss:  0.24740162  Validation Accuracy:  0.481\n",
      "Epoch 49, CIFAR-10 Batch 1:  Loss:  0.26599687  Validation Accuracy:  0.4816\n",
      "Epoch 50, CIFAR-10 Batch 1:  Loss:  0.21859503  Validation Accuracy:  0.4918\n"
     ]
    }
   ],
   "source": [
    "\"\"\"\n",
    "DON'T MODIFY ANYTHING IN THIS CELL\n",
    "\"\"\"\n",
    "print('Checking the Training on a Single Batch...')\n",
    "with tf.Session() as sess:\n",
    "    # Initializing the variables\n",
    "    sess.run(tf.global_variables_initializer())\n",
    "    \n",
    "    # Training cycle\n",
    "    for epoch in range(epochs):\n",
    "        batch_i = 1\n",
    "        for batch_features, batch_labels in helper.load_preprocess_training_batch(batch_i, batch_size):\n",
    "            train_neural_network(sess, optimizer, keep_probability, batch_features, batch_labels)\n",
    "        print('Epoch {:>2}, CIFAR-10 Batch {}:  '.format(epoch + 1, batch_i), end='')\n",
    "        print_stats(sess, batch_features, batch_labels, cost, accuracy)"
   ]
  },
  {
   "cell_type": "markdown",
   "metadata": {},
   "source": [
    "### Fully Train the Model\n",
    "Now that you got a good accuracy with a single CIFAR-10 batch, try it with all five batches."
   ]
  },
  {
   "cell_type": "code",
   "execution_count": 18,
   "metadata": {},
   "outputs": [
    {
     "name": "stdout",
     "output_type": "stream",
     "text": [
      "Training...\n",
      "Epoch  1, CIFAR-10 Batch 1:  Loss:  2.2773654  Validation Accuracy:  0.1774\n",
      "Epoch  1, CIFAR-10 Batch 2:  Loss:  2.2487369  Validation Accuracy:  0.186\n",
      "Epoch  1, CIFAR-10 Batch 3:  Loss:  1.8221409  Validation Accuracy:  0.1952\n",
      "Epoch  1, CIFAR-10 Batch 4:  Loss:  1.9149277  Validation Accuracy:  0.1968\n",
      "Epoch  1, CIFAR-10 Batch 5:  Loss:  1.9758174  Validation Accuracy:  0.26\n",
      "Epoch  2, CIFAR-10 Batch 1:  Loss:  2.0387878  Validation Accuracy:  0.2796\n",
      "Epoch  2, CIFAR-10 Batch 2:  Loss:  1.9987309  Validation Accuracy:  0.3036\n",
      "Epoch  2, CIFAR-10 Batch 3:  Loss:  1.4928013  Validation Accuracy:  0.3128\n",
      "Epoch  2, CIFAR-10 Batch 4:  Loss:  1.7070162  Validation Accuracy:  0.3134\n",
      "Epoch  2, CIFAR-10 Batch 5:  Loss:  1.6564703  Validation Accuracy:  0.339\n",
      "Epoch  3, CIFAR-10 Batch 1:  Loss:  1.7614834  Validation Accuracy:  0.36\n",
      "Epoch  3, CIFAR-10 Batch 2:  Loss:  1.9157833  Validation Accuracy:  0.365\n",
      "Epoch  3, CIFAR-10 Batch 3:  Loss:  1.3230972  Validation Accuracy:  0.365\n",
      "Epoch  3, CIFAR-10 Batch 4:  Loss:  1.5346893  Validation Accuracy:  0.384\n",
      "Epoch  3, CIFAR-10 Batch 5:  Loss:  1.4939514  Validation Accuracy:  0.399\n",
      "Epoch  4, CIFAR-10 Batch 1:  Loss:  1.5548441  Validation Accuracy:  0.4136\n",
      "Epoch  4, CIFAR-10 Batch 2:  Loss:  1.6857458  Validation Accuracy:  0.3992\n",
      "Epoch  4, CIFAR-10 Batch 3:  Loss:  1.2231524  Validation Accuracy:  0.403\n",
      "Epoch  4, CIFAR-10 Batch 4:  Loss:  1.5113688  Validation Accuracy:  0.4268\n",
      "Epoch  4, CIFAR-10 Batch 5:  Loss:  1.346647  Validation Accuracy:  0.433\n",
      "Epoch  5, CIFAR-10 Batch 1:  Loss:  1.4281013  Validation Accuracy:  0.435\n",
      "Epoch  5, CIFAR-10 Batch 2:  Loss:  1.4796902  Validation Accuracy:  0.4488\n",
      "Epoch  5, CIFAR-10 Batch 3:  Loss:  1.1499258  Validation Accuracy:  0.4476\n",
      "Epoch  5, CIFAR-10 Batch 4:  Loss:  1.3707887  Validation Accuracy:  0.4598\n",
      "Epoch  5, CIFAR-10 Batch 5:  Loss:  1.2922797  Validation Accuracy:  0.458\n",
      "Epoch  6, CIFAR-10 Batch 1:  Loss:  1.3314412  Validation Accuracy:  0.465\n",
      "Epoch  6, CIFAR-10 Batch 2:  Loss:  1.345154  Validation Accuracy:  0.4734\n",
      "Epoch  6, CIFAR-10 Batch 3:  Loss:  1.1301475  Validation Accuracy:  0.451\n",
      "Epoch  6, CIFAR-10 Batch 4:  Loss:  1.293161  Validation Accuracy:  0.4786\n",
      "Epoch  6, CIFAR-10 Batch 5:  Loss:  1.1910801  Validation Accuracy:  0.4732\n",
      "Epoch  7, CIFAR-10 Batch 1:  Loss:  1.215975  Validation Accuracy:  0.487\n",
      "Epoch  7, CIFAR-10 Batch 2:  Loss:  1.2040911  Validation Accuracy:  0.49\n",
      "Epoch  7, CIFAR-10 Batch 3:  Loss:  1.0565797  Validation Accuracy:  0.4764\n",
      "Epoch  7, CIFAR-10 Batch 4:  Loss:  1.2309986  Validation Accuracy:  0.5016\n",
      "Epoch  7, CIFAR-10 Batch 5:  Loss:  1.1049898  Validation Accuracy:  0.4978\n",
      "Epoch  8, CIFAR-10 Batch 1:  Loss:  1.2760569  Validation Accuracy:  0.51\n",
      "Epoch  8, CIFAR-10 Batch 2:  Loss:  1.1903846  Validation Accuracy:  0.4924\n",
      "Epoch  8, CIFAR-10 Batch 3:  Loss:  0.977915  Validation Accuracy:  0.4882\n",
      "Epoch  8, CIFAR-10 Batch 4:  Loss:  1.2050567  Validation Accuracy:  0.5142\n",
      "Epoch  8, CIFAR-10 Batch 5:  Loss:  1.0675781  Validation Accuracy:  0.5116\n",
      "Epoch  9, CIFAR-10 Batch 1:  Loss:  1.212345  Validation Accuracy:  0.5116\n",
      "Epoch  9, CIFAR-10 Batch 2:  Loss:  1.0088037  Validation Accuracy:  0.4976\n",
      "Epoch  9, CIFAR-10 Batch 3:  Loss:  0.90626925  Validation Accuracy:  0.4938\n",
      "Epoch  9, CIFAR-10 Batch 4:  Loss:  1.1852821  Validation Accuracy:  0.5296\n",
      "Epoch  9, CIFAR-10 Batch 5:  Loss:  1.00616  Validation Accuracy:  0.5166\n",
      "Epoch 10, CIFAR-10 Batch 1:  Loss:  1.150265  Validation Accuracy:  0.5226\n",
      "Epoch 10, CIFAR-10 Batch 2:  Loss:  0.9505091  Validation Accuracy:  0.5062\n",
      "Epoch 10, CIFAR-10 Batch 3:  Loss:  0.825768  Validation Accuracy:  0.5218\n",
      "Epoch 10, CIFAR-10 Batch 4:  Loss:  1.1732231  Validation Accuracy:  0.5154\n",
      "Epoch 10, CIFAR-10 Batch 5:  Loss:  0.96384585  Validation Accuracy:  0.5238\n",
      "Epoch 11, CIFAR-10 Batch 1:  Loss:  1.0917222  Validation Accuracy:  0.5374\n",
      "Epoch 11, CIFAR-10 Batch 2:  Loss:  0.9003962  Validation Accuracy:  0.5116\n",
      "Epoch 11, CIFAR-10 Batch 3:  Loss:  0.8043051  Validation Accuracy:  0.5376\n",
      "Epoch 11, CIFAR-10 Batch 4:  Loss:  1.1098459  Validation Accuracy:  0.5406\n",
      "Epoch 11, CIFAR-10 Batch 5:  Loss:  0.9419187  Validation Accuracy:  0.534\n",
      "Epoch 12, CIFAR-10 Batch 1:  Loss:  1.0645384  Validation Accuracy:  0.531\n",
      "Epoch 12, CIFAR-10 Batch 2:  Loss:  0.8260792  Validation Accuracy:  0.5308\n",
      "Epoch 12, CIFAR-10 Batch 3:  Loss:  0.7654785  Validation Accuracy:  0.531\n",
      "Epoch 12, CIFAR-10 Batch 4:  Loss:  1.0956033  Validation Accuracy:  0.5368\n",
      "Epoch 12, CIFAR-10 Batch 5:  Loss:  0.8380801  Validation Accuracy:  0.5444\n",
      "Epoch 13, CIFAR-10 Batch 1:  Loss:  1.0448866  Validation Accuracy:  0.5326\n",
      "Epoch 13, CIFAR-10 Batch 2:  Loss:  0.8259856  Validation Accuracy:  0.5392\n",
      "Epoch 13, CIFAR-10 Batch 3:  Loss:  0.7122902  Validation Accuracy:  0.5492\n",
      "Epoch 13, CIFAR-10 Batch 4:  Loss:  1.056188  Validation Accuracy:  0.551\n",
      "Epoch 13, CIFAR-10 Batch 5:  Loss:  0.83929074  Validation Accuracy:  0.5376\n",
      "Epoch 14, CIFAR-10 Batch 1:  Loss:  1.03941  Validation Accuracy:  0.5432\n",
      "Epoch 14, CIFAR-10 Batch 2:  Loss:  0.80537623  Validation Accuracy:  0.5476\n",
      "Epoch 14, CIFAR-10 Batch 3:  Loss:  0.6531693  Validation Accuracy:  0.5524\n",
      "Epoch 14, CIFAR-10 Batch 4:  Loss:  1.056864  Validation Accuracy:  0.5412\n",
      "Epoch 14, CIFAR-10 Batch 5:  Loss:  0.80271566  Validation Accuracy:  0.5494\n",
      "Epoch 15, CIFAR-10 Batch 1:  Loss:  1.0174708  Validation Accuracy:  0.5428\n",
      "Epoch 15, CIFAR-10 Batch 2:  Loss:  0.7591005  Validation Accuracy:  0.5514\n",
      "Epoch 15, CIFAR-10 Batch 3:  Loss:  0.6100436  Validation Accuracy:  0.5518\n",
      "Epoch 15, CIFAR-10 Batch 4:  Loss:  1.0841322  Validation Accuracy:  0.5336\n",
      "Epoch 15, CIFAR-10 Batch 5:  Loss:  0.7798051  Validation Accuracy:  0.5536\n",
      "Epoch 16, CIFAR-10 Batch 1:  Loss:  0.9318298  Validation Accuracy:  0.5548\n",
      "Epoch 16, CIFAR-10 Batch 2:  Loss:  0.7601262  Validation Accuracy:  0.5482\n",
      "Epoch 16, CIFAR-10 Batch 3:  Loss:  0.60631  Validation Accuracy:  0.5572\n",
      "Epoch 16, CIFAR-10 Batch 4:  Loss:  1.0296401  Validation Accuracy:  0.5294\n",
      "Epoch 16, CIFAR-10 Batch 5:  Loss:  0.75544614  Validation Accuracy:  0.5562\n",
      "Epoch 17, CIFAR-10 Batch 1:  Loss:  0.9110495  Validation Accuracy:  0.5524\n",
      "Epoch 17, CIFAR-10 Batch 2:  Loss:  0.6999606  Validation Accuracy:  0.5544\n",
      "Epoch 17, CIFAR-10 Batch 3:  Loss:  0.6191958  Validation Accuracy:  0.562\n",
      "Epoch 17, CIFAR-10 Batch 4:  Loss:  1.036572  Validation Accuracy:  0.5312\n",
      "Epoch 17, CIFAR-10 Batch 5:  Loss:  0.68348795  Validation Accuracy:  0.5734\n",
      "Epoch 18, CIFAR-10 Batch 1:  Loss:  0.916045  Validation Accuracy:  0.5598\n",
      "Epoch 18, CIFAR-10 Batch 2:  Loss:  0.6872801  Validation Accuracy:  0.5554\n",
      "Epoch 18, CIFAR-10 Batch 3:  Loss:  0.575983  Validation Accuracy:  0.5576\n",
      "Epoch 18, CIFAR-10 Batch 4:  Loss:  0.9454177  Validation Accuracy:  0.5422\n",
      "Epoch 18, CIFAR-10 Batch 5:  Loss:  0.6468999  Validation Accuracy:  0.5706\n",
      "Epoch 19, CIFAR-10 Batch 1:  Loss:  0.8973223  Validation Accuracy:  0.5562\n",
      "Epoch 19, CIFAR-10 Batch 2:  Loss:  0.68159306  Validation Accuracy:  0.5598\n",
      "Epoch 19, CIFAR-10 Batch 3:  Loss:  0.5878868  Validation Accuracy:  0.5516\n",
      "Epoch 19, CIFAR-10 Batch 4:  Loss:  0.9496425  Validation Accuracy:  0.5368\n",
      "Epoch 19, CIFAR-10 Batch 5:  Loss:  0.61502117  Validation Accuracy:  0.5694\n",
      "Epoch 20, CIFAR-10 Batch 1:  Loss:  0.8365261  Validation Accuracy:  0.5678\n",
      "Epoch 20, CIFAR-10 Batch 2:  Loss:  0.63491684  Validation Accuracy:  0.5624\n",
      "Epoch 20, CIFAR-10 Batch 3:  Loss:  0.5551089  Validation Accuracy:  0.5668\n",
      "Epoch 20, CIFAR-10 Batch 4:  Loss:  0.85298747  Validation Accuracy:  0.5466\n",
      "Epoch 20, CIFAR-10 Batch 5:  Loss:  0.5927981  Validation Accuracy:  0.572\n",
      "Epoch 21, CIFAR-10 Batch 1:  Loss:  0.82268876  Validation Accuracy:  0.567\n",
      "Epoch 21, CIFAR-10 Batch 2:  Loss:  0.6128653  Validation Accuracy:  0.5584\n",
      "Epoch 21, CIFAR-10 Batch 3:  Loss:  0.5783824  Validation Accuracy:  0.561\n",
      "Epoch 21, CIFAR-10 Batch 4:  Loss:  0.91195905  Validation Accuracy:  0.5508\n",
      "Epoch 21, CIFAR-10 Batch 5:  Loss:  0.6071497  Validation Accuracy:  0.5656\n",
      "Epoch 22, CIFAR-10 Batch 1:  Loss:  0.817294  Validation Accuracy:  0.5716\n",
      "Epoch 22, CIFAR-10 Batch 2:  Loss:  0.6132966  Validation Accuracy:  0.5704\n",
      "Epoch 22, CIFAR-10 Batch 3:  Loss:  0.5396769  Validation Accuracy:  0.5616\n"
     ]
    },
    {
     "name": "stdout",
     "output_type": "stream",
     "text": [
      "Epoch 22, CIFAR-10 Batch 4:  Loss:  0.8197975  Validation Accuracy:  0.5602\n",
      "Epoch 22, CIFAR-10 Batch 5:  Loss:  0.5717031  Validation Accuracy:  0.5692\n",
      "Epoch 23, CIFAR-10 Batch 1:  Loss:  0.7697933  Validation Accuracy:  0.5618\n",
      "Epoch 23, CIFAR-10 Batch 2:  Loss:  0.58300126  Validation Accuracy:  0.563\n",
      "Epoch 23, CIFAR-10 Batch 3:  Loss:  0.53663874  Validation Accuracy:  0.5656\n",
      "Epoch 23, CIFAR-10 Batch 4:  Loss:  0.8692209  Validation Accuracy:  0.551\n",
      "Epoch 23, CIFAR-10 Batch 5:  Loss:  0.5575002  Validation Accuracy:  0.5754\n",
      "Epoch 24, CIFAR-10 Batch 1:  Loss:  0.73080295  Validation Accuracy:  0.574\n",
      "Epoch 24, CIFAR-10 Batch 2:  Loss:  0.57335407  Validation Accuracy:  0.5612\n",
      "Epoch 24, CIFAR-10 Batch 3:  Loss:  0.508747  Validation Accuracy:  0.5624\n",
      "Epoch 24, CIFAR-10 Batch 4:  Loss:  0.77412474  Validation Accuracy:  0.563\n",
      "Epoch 24, CIFAR-10 Batch 5:  Loss:  0.5498663  Validation Accuracy:  0.579\n",
      "Epoch 25, CIFAR-10 Batch 1:  Loss:  0.72332036  Validation Accuracy:  0.5748\n",
      "Epoch 25, CIFAR-10 Batch 2:  Loss:  0.5391148  Validation Accuracy:  0.563\n",
      "Epoch 25, CIFAR-10 Batch 3:  Loss:  0.47339082  Validation Accuracy:  0.5756\n",
      "Epoch 25, CIFAR-10 Batch 4:  Loss:  0.78241795  Validation Accuracy:  0.5602\n",
      "Epoch 25, CIFAR-10 Batch 5:  Loss:  0.5255812  Validation Accuracy:  0.584\n",
      "Epoch 26, CIFAR-10 Batch 1:  Loss:  0.70228994  Validation Accuracy:  0.5648\n",
      "Epoch 26, CIFAR-10 Batch 2:  Loss:  0.56493497  Validation Accuracy:  0.5586\n",
      "Epoch 26, CIFAR-10 Batch 3:  Loss:  0.45393914  Validation Accuracy:  0.5694\n",
      "Epoch 26, CIFAR-10 Batch 4:  Loss:  0.70294225  Validation Accuracy:  0.5706\n",
      "Epoch 26, CIFAR-10 Batch 5:  Loss:  0.4875614  Validation Accuracy:  0.5824\n",
      "Epoch 27, CIFAR-10 Batch 1:  Loss:  0.7024804  Validation Accuracy:  0.5618\n",
      "Epoch 27, CIFAR-10 Batch 2:  Loss:  0.5711606  Validation Accuracy:  0.569\n",
      "Epoch 27, CIFAR-10 Batch 3:  Loss:  0.42907438  Validation Accuracy:  0.5732\n",
      "Epoch 27, CIFAR-10 Batch 4:  Loss:  0.7120602  Validation Accuracy:  0.5656\n",
      "Epoch 27, CIFAR-10 Batch 5:  Loss:  0.49097005  Validation Accuracy:  0.5788\n",
      "Epoch 28, CIFAR-10 Batch 1:  Loss:  0.69760144  Validation Accuracy:  0.5578\n",
      "Epoch 28, CIFAR-10 Batch 2:  Loss:  0.5925196  Validation Accuracy:  0.543\n",
      "Epoch 28, CIFAR-10 Batch 3:  Loss:  0.42338505  Validation Accuracy:  0.5584\n",
      "Epoch 28, CIFAR-10 Batch 4:  Loss:  0.67769855  Validation Accuracy:  0.5662\n",
      "Epoch 28, CIFAR-10 Batch 5:  Loss:  0.48294705  Validation Accuracy:  0.5826\n",
      "Epoch 29, CIFAR-10 Batch 1:  Loss:  0.66382074  Validation Accuracy:  0.5604\n",
      "Epoch 29, CIFAR-10 Batch 2:  Loss:  0.57546693  Validation Accuracy:  0.5544\n",
      "Epoch 29, CIFAR-10 Batch 3:  Loss:  0.4069435  Validation Accuracy:  0.5638\n",
      "Epoch 29, CIFAR-10 Batch 4:  Loss:  0.5944686  Validation Accuracy:  0.576\n",
      "Epoch 29, CIFAR-10 Batch 5:  Loss:  0.45015168  Validation Accuracy:  0.5788\n",
      "Epoch 30, CIFAR-10 Batch 1:  Loss:  0.6749972  Validation Accuracy:  0.5554\n",
      "Epoch 30, CIFAR-10 Batch 2:  Loss:  0.54064006  Validation Accuracy:  0.5528\n",
      "Epoch 30, CIFAR-10 Batch 3:  Loss:  0.38149008  Validation Accuracy:  0.5668\n",
      "Epoch 30, CIFAR-10 Batch 4:  Loss:  0.5971794  Validation Accuracy:  0.579\n",
      "Epoch 30, CIFAR-10 Batch 5:  Loss:  0.45697433  Validation Accuracy:  0.568\n",
      "Epoch 31, CIFAR-10 Batch 1:  Loss:  0.6514212  Validation Accuracy:  0.5576\n",
      "Epoch 31, CIFAR-10 Batch 2:  Loss:  0.5318067  Validation Accuracy:  0.5626\n",
      "Epoch 31, CIFAR-10 Batch 3:  Loss:  0.37093353  Validation Accuracy:  0.569\n",
      "Epoch 31, CIFAR-10 Batch 4:  Loss:  0.5799328  Validation Accuracy:  0.5654\n",
      "Epoch 31, CIFAR-10 Batch 5:  Loss:  0.42639846  Validation Accuracy:  0.5682\n",
      "Epoch 32, CIFAR-10 Batch 1:  Loss:  0.6074089  Validation Accuracy:  0.576\n",
      "Epoch 32, CIFAR-10 Batch 2:  Loss:  0.5393349  Validation Accuracy:  0.5752\n",
      "Epoch 32, CIFAR-10 Batch 3:  Loss:  0.37246686  Validation Accuracy:  0.5678\n",
      "Epoch 32, CIFAR-10 Batch 4:  Loss:  0.5854279  Validation Accuracy:  0.5602\n",
      "Epoch 32, CIFAR-10 Batch 5:  Loss:  0.4197758  Validation Accuracy:  0.5702\n",
      "Epoch 33, CIFAR-10 Batch 1:  Loss:  0.61248815  Validation Accuracy:  0.5752\n",
      "Epoch 33, CIFAR-10 Batch 2:  Loss:  0.5319869  Validation Accuracy:  0.5676\n",
      "Epoch 33, CIFAR-10 Batch 3:  Loss:  0.35286108  Validation Accuracy:  0.5692\n",
      "Epoch 33, CIFAR-10 Batch 4:  Loss:  0.53325003  Validation Accuracy:  0.5558\n",
      "Epoch 33, CIFAR-10 Batch 5:  Loss:  0.41125077  Validation Accuracy:  0.5774\n",
      "Epoch 34, CIFAR-10 Batch 1:  Loss:  0.55571604  Validation Accuracy:  0.5704\n",
      "Epoch 34, CIFAR-10 Batch 2:  Loss:  0.49781352  Validation Accuracy:  0.571\n",
      "Epoch 34, CIFAR-10 Batch 3:  Loss:  0.35138947  Validation Accuracy:  0.5702\n",
      "Epoch 34, CIFAR-10 Batch 4:  Loss:  0.5223478  Validation Accuracy:  0.5572\n",
      "Epoch 34, CIFAR-10 Batch 5:  Loss:  0.38989577  Validation Accuracy:  0.5724\n",
      "Epoch 35, CIFAR-10 Batch 1:  Loss:  0.54195946  Validation Accuracy:  0.572\n",
      "Epoch 35, CIFAR-10 Batch 2:  Loss:  0.48791456  Validation Accuracy:  0.5622\n",
      "Epoch 35, CIFAR-10 Batch 3:  Loss:  0.32090718  Validation Accuracy:  0.567\n",
      "Epoch 35, CIFAR-10 Batch 4:  Loss:  0.5137884  Validation Accuracy:  0.5588\n",
      "Epoch 35, CIFAR-10 Batch 5:  Loss:  0.3966635  Validation Accuracy:  0.5724\n",
      "Epoch 36, CIFAR-10 Batch 1:  Loss:  0.54873824  Validation Accuracy:  0.569\n",
      "Epoch 36, CIFAR-10 Batch 2:  Loss:  0.47340852  Validation Accuracy:  0.5726\n",
      "Epoch 36, CIFAR-10 Batch 3:  Loss:  0.32829538  Validation Accuracy:  0.5698\n",
      "Epoch 36, CIFAR-10 Batch 4:  Loss:  0.5049278  Validation Accuracy:  0.5622\n",
      "Epoch 36, CIFAR-10 Batch 5:  Loss:  0.3539906  Validation Accuracy:  0.582\n",
      "Epoch 37, CIFAR-10 Batch 1:  Loss:  0.49311963  Validation Accuracy:  0.5698\n",
      "Epoch 37, CIFAR-10 Batch 2:  Loss:  0.46206886  Validation Accuracy:  0.5714\n",
      "Epoch 37, CIFAR-10 Batch 3:  Loss:  0.32587773  Validation Accuracy:  0.557\n",
      "Epoch 37, CIFAR-10 Batch 4:  Loss:  0.49103746  Validation Accuracy:  0.5498\n",
      "Epoch 37, CIFAR-10 Batch 5:  Loss:  0.3528916  Validation Accuracy:  0.5736\n",
      "Epoch 38, CIFAR-10 Batch 1:  Loss:  0.5038406  Validation Accuracy:  0.5642\n",
      "Epoch 38, CIFAR-10 Batch 2:  Loss:  0.4354793  Validation Accuracy:  0.5764\n",
      "Epoch 38, CIFAR-10 Batch 3:  Loss:  0.3014699  Validation Accuracy:  0.5742\n",
      "Epoch 38, CIFAR-10 Batch 4:  Loss:  0.5033776  Validation Accuracy:  0.5404\n",
      "Epoch 38, CIFAR-10 Batch 5:  Loss:  0.3702398  Validation Accuracy:  0.5738\n",
      "Epoch 39, CIFAR-10 Batch 1:  Loss:  0.50262415  Validation Accuracy:  0.5466\n",
      "Epoch 39, CIFAR-10 Batch 2:  Loss:  0.48616666  Validation Accuracy:  0.5758\n",
      "Epoch 39, CIFAR-10 Batch 3:  Loss:  0.3167866  Validation Accuracy:  0.5706\n",
      "Epoch 39, CIFAR-10 Batch 4:  Loss:  0.49002734  Validation Accuracy:  0.535\n",
      "Epoch 39, CIFAR-10 Batch 5:  Loss:  0.3503862  Validation Accuracy:  0.5758\n",
      "Epoch 40, CIFAR-10 Batch 1:  Loss:  0.4827392  Validation Accuracy:  0.5618\n",
      "Epoch 40, CIFAR-10 Batch 2:  Loss:  0.46844968  Validation Accuracy:  0.5764\n",
      "Epoch 40, CIFAR-10 Batch 3:  Loss:  0.31736803  Validation Accuracy:  0.5758\n",
      "Epoch 40, CIFAR-10 Batch 4:  Loss:  0.53685874  Validation Accuracy:  0.5116\n",
      "Epoch 40, CIFAR-10 Batch 5:  Loss:  0.33660665  Validation Accuracy:  0.5794\n",
      "Epoch 41, CIFAR-10 Batch 1:  Loss:  0.47146297  Validation Accuracy:  0.5616\n",
      "Epoch 41, CIFAR-10 Batch 2:  Loss:  0.46788663  Validation Accuracy:  0.5628\n",
      "Epoch 41, CIFAR-10 Batch 3:  Loss:  0.28567043  Validation Accuracy:  0.5732\n",
      "Epoch 41, CIFAR-10 Batch 4:  Loss:  0.50783014  Validation Accuracy:  0.528\n",
      "Epoch 41, CIFAR-10 Batch 5:  Loss:  0.363918  Validation Accuracy:  0.574\n",
      "Epoch 42, CIFAR-10 Batch 1:  Loss:  0.46660224  Validation Accuracy:  0.5674\n",
      "Epoch 42, CIFAR-10 Batch 2:  Loss:  0.42237645  Validation Accuracy:  0.567\n",
      "Epoch 42, CIFAR-10 Batch 3:  Loss:  0.28008184  Validation Accuracy:  0.5586\n",
      "Epoch 42, CIFAR-10 Batch 4:  Loss:  0.4620842  Validation Accuracy:  0.5482\n",
      "Epoch 42, CIFAR-10 Batch 5:  Loss:  0.34323344  Validation Accuracy:  0.575\n",
      "Epoch 43, CIFAR-10 Batch 1:  Loss:  0.44273192  Validation Accuracy:  0.5566\n",
      "Epoch 43, CIFAR-10 Batch 2:  Loss:  0.40354672  Validation Accuracy:  0.5724\n",
      "Epoch 43, CIFAR-10 Batch 3:  Loss:  0.2825994  Validation Accuracy:  0.5614\n",
      "Epoch 43, CIFAR-10 Batch 4:  Loss:  0.45510188  Validation Accuracy:  0.5416\n",
      "Epoch 43, CIFAR-10 Batch 5:  Loss:  0.31209856  Validation Accuracy:  0.5784\n"
     ]
    },
    {
     "name": "stdout",
     "output_type": "stream",
     "text": [
      "Epoch 44, CIFAR-10 Batch 1:  Loss:  0.43427125  Validation Accuracy:  0.5612\n",
      "Epoch 44, CIFAR-10 Batch 2:  Loss:  0.39025694  Validation Accuracy:  0.5802\n",
      "Epoch 44, CIFAR-10 Batch 3:  Loss:  0.24564505  Validation Accuracy:  0.5616\n",
      "Epoch 44, CIFAR-10 Batch 4:  Loss:  0.46974868  Validation Accuracy:  0.545\n",
      "Epoch 44, CIFAR-10 Batch 5:  Loss:  0.301646  Validation Accuracy:  0.5784\n",
      "Epoch 45, CIFAR-10 Batch 1:  Loss:  0.453797  Validation Accuracy:  0.552\n",
      "Epoch 45, CIFAR-10 Batch 2:  Loss:  0.37758645  Validation Accuracy:  0.5778\n",
      "Epoch 45, CIFAR-10 Batch 3:  Loss:  0.23854673  Validation Accuracy:  0.5668\n",
      "Epoch 45, CIFAR-10 Batch 4:  Loss:  0.4364873  Validation Accuracy:  0.5512\n",
      "Epoch 45, CIFAR-10 Batch 5:  Loss:  0.27610517  Validation Accuracy:  0.5762\n",
      "Epoch 46, CIFAR-10 Batch 1:  Loss:  0.3987296  Validation Accuracy:  0.5644\n",
      "Epoch 46, CIFAR-10 Batch 2:  Loss:  0.35559052  Validation Accuracy:  0.5792\n",
      "Epoch 46, CIFAR-10 Batch 3:  Loss:  0.229779  Validation Accuracy:  0.5692\n",
      "Epoch 46, CIFAR-10 Batch 4:  Loss:  0.3825883  Validation Accuracy:  0.5636\n",
      "Epoch 46, CIFAR-10 Batch 5:  Loss:  0.29318902  Validation Accuracy:  0.5786\n",
      "Epoch 47, CIFAR-10 Batch 1:  Loss:  0.41904813  Validation Accuracy:  0.5696\n",
      "Epoch 47, CIFAR-10 Batch 2:  Loss:  0.38215375  Validation Accuracy:  0.5802\n",
      "Epoch 47, CIFAR-10 Batch 3:  Loss:  0.27070767  Validation Accuracy:  0.5638\n",
      "Epoch 47, CIFAR-10 Batch 4:  Loss:  0.36827248  Validation Accuracy:  0.5672\n",
      "Epoch 47, CIFAR-10 Batch 5:  Loss:  0.26535168  Validation Accuracy:  0.5792\n",
      "Epoch 48, CIFAR-10 Batch 1:  Loss:  0.39852467  Validation Accuracy:  0.569\n",
      "Epoch 48, CIFAR-10 Batch 2:  Loss:  0.33348054  Validation Accuracy:  0.5784\n",
      "Epoch 48, CIFAR-10 Batch 3:  Loss:  0.25767863  Validation Accuracy:  0.5576\n",
      "Epoch 48, CIFAR-10 Batch 4:  Loss:  0.33786076  Validation Accuracy:  0.5558\n",
      "Epoch 48, CIFAR-10 Batch 5:  Loss:  0.28352302  Validation Accuracy:  0.5738\n",
      "Epoch 49, CIFAR-10 Batch 1:  Loss:  0.36986214  Validation Accuracy:  0.567\n",
      "Epoch 49, CIFAR-10 Batch 2:  Loss:  0.3374792  Validation Accuracy:  0.5642\n",
      "Epoch 49, CIFAR-10 Batch 3:  Loss:  0.24798207  Validation Accuracy:  0.564\n",
      "Epoch 49, CIFAR-10 Batch 4:  Loss:  0.36890465  Validation Accuracy:  0.5578\n",
      "Epoch 49, CIFAR-10 Batch 5:  Loss:  0.2903251  Validation Accuracy:  0.5718\n",
      "Epoch 50, CIFAR-10 Batch 1:  Loss:  0.36126328  Validation Accuracy:  0.5692\n",
      "Epoch 50, CIFAR-10 Batch 2:  Loss:  0.34486774  Validation Accuracy:  0.5716\n",
      "Epoch 50, CIFAR-10 Batch 3:  Loss:  0.2509674  Validation Accuracy:  0.556\n",
      "Epoch 50, CIFAR-10 Batch 4:  Loss:  0.32532173  Validation Accuracy:  0.56\n",
      "Epoch 50, CIFAR-10 Batch 5:  Loss:  0.2963061  Validation Accuracy:  0.567\n"
     ]
    }
   ],
   "source": [
    "\"\"\"\n",
    "DON'T MODIFY ANYTHING IN THIS CELL\n",
    "\"\"\"\n",
    "save_model_path = './image_classification'\n",
    "\n",
    "print('Training...')\n",
    "with tf.Session() as sess:\n",
    "    # Initializing the variables\n",
    "    sess.run(tf.global_variables_initializer())\n",
    "    \n",
    "    # Training cycle\n",
    "    for epoch in range(epochs):\n",
    "        # Loop over all batches\n",
    "        n_batches = 5\n",
    "        for batch_i in range(1, n_batches + 1):\n",
    "            for batch_features, batch_labels in helper.load_preprocess_training_batch(batch_i, batch_size):\n",
    "                train_neural_network(sess, optimizer, keep_probability, batch_features, batch_labels)\n",
    "            print('Epoch {:>2}, CIFAR-10 Batch {}:  '.format(epoch + 1, batch_i), end='')\n",
    "            print_stats(sess, batch_features, batch_labels, cost, accuracy)\n",
    "            \n",
    "    # Save Model\n",
    "    saver = tf.train.Saver()\n",
    "    save_path = saver.save(sess, save_model_path)"
   ]
  },
  {
   "cell_type": "markdown",
   "metadata": {},
   "source": [
    "# Checkpoint\n",
    "The model has been saved to disk.\n",
    "## Test Model\n",
    "Test your model against the test dataset.  This will be your final accuracy. You should have an accuracy greater than 50%. If you don't, keep tweaking the model architecture and parameters."
   ]
  },
  {
   "cell_type": "code",
   "execution_count": 19,
   "metadata": {},
   "outputs": [
    {
     "name": "stdout",
     "output_type": "stream",
     "text": [
      "INFO:tensorflow:Restoring parameters from ./image_classification\n",
      "Testing Accuracy: 0.57099609375\n",
      "\n"
     ]
    },
    {
     "data": {
      "image/png": "[encoded data removed]",
      "text/plain": [
       "<matplotlib.figure.Figure at 0x1ab902b0>"
      ]
     },
     "metadata": {
      "image/png": {
       "height": 319,
       "width": 355
      }
     },
     "output_type": "display_data"
    }
   ],
   "source": [
    "\"\"\"\n",
    "DON'T MODIFY ANYTHING IN THIS CELL\n",
    "\"\"\"\n",
    "%matplotlib inline\n",
    "%config InlineBackend.figure_format = 'retina'\n",
    "\n",
    "import tensorflow as tf\n",
    "import pickle\n",
    "import helper\n",
    "import random\n",
    "\n",
    "# Set batch size if not already set\n",
    "try:\n",
    "    if batch_size:\n",
    "        pass\n",
    "except NameError:\n",
    "    batch_size = 64\n",
    "\n",
    "save_model_path = './image_classification'\n",
    "n_samples = 4\n",
    "top_n_predictions = 3\n",
    "\n",
    "def test_model():\n",
    "    \"\"\"\n",
    "    Test the saved model against the test dataset\n",
    "    \"\"\"\n",
    "\n",
    "    test_features, test_labels = pickle.load(open('preprocess_training.p', mode='rb'))\n",
    "    loaded_graph = tf.Graph()\n",
    "\n",
    "    with tf.Session(graph=loaded_graph) as sess:\n",
    "        # Load model\n",
    "        loader = tf.train.import_meta_graph(save_model_path + '.meta')\n",
    "        loader.restore(sess, save_model_path)\n",
    "\n",
    "        # Get Tensors from loaded model\n",
    "        loaded_x = loaded_graph.get_tensor_by_name('x:0')\n",
    "        loaded_y = loaded_graph.get_tensor_by_name('y:0')\n",
    "        loaded_keep_prob = loaded_graph.get_tensor_by_name('keep_prob:0')\n",
    "        loaded_logits = loaded_graph.get_tensor_by_name('logits:0')\n",
    "        loaded_acc = loaded_graph.get_tensor_by_name('accuracy:0')\n",
    "        \n",
    "        # Get accuracy in batches for memory limitations\n",
    "        test_batch_acc_total = 0\n",
    "        test_batch_count = 0\n",
    "        \n",
    "        for train_feature_batch, train_label_batch in helper.batch_features_labels(test_features, test_labels, batch_size):\n",
    "            test_batch_acc_total += sess.run(\n",
    "                loaded_acc,\n",
    "                feed_dict={loaded_x: train_feature_batch, loaded_y: train_label_batch, loaded_keep_prob: 1.0})\n",
    "            test_batch_count += 1\n",
    "\n",
    "        print('Testing Accuracy: {}\\n'.format(test_batch_acc_total/test_batch_count))\n",
    "\n",
    "        # Print Random Samples\n",
    "        random_test_features, random_test_labels = tuple(zip(*random.sample(list(zip(test_features, test_labels)), n_samples)))\n",
    "        random_test_predictions = sess.run(\n",
    "            tf.nn.top_k(tf.nn.softmax(loaded_logits), top_n_predictions),\n",
    "            feed_dict={loaded_x: random_test_features, loaded_y: random_test_labels, loaded_keep_prob: 1.0})\n",
    "        helper.display_image_predictions(random_test_features, random_test_labels, random_test_predictions)\n",
    "\n",
    "\n",
    "test_model()"
   ]
  },
  {
   "cell_type": "markdown",
   "metadata": {},
   "source": [
    "## Why 50-80% Accuracy?\n",
    "You might be wondering why you can't get an accuracy any higher. First things first, 50% isn't bad for a simple CNN.  Pure guessing would get you 10% accuracy. That's because there are many more techniques that can be applied to your model and we recemmond that once you are done with this project, you explore!\n",
    "\n",
    "## Submitting This Project\n",
    "When submitting this project, make sure to run all the cells before saving the notebook.  Save the notebook file as \"image_classification.ipynb\" and save it as a HTML file under \"File\" -> \"Download as\".  Include the \"helper.py\" and \"problem_unittests.py\" files in your submission."
   ]
  }
 ],
 "metadata": {
  "kernelspec": {
   "display_name": "Python 3",
   "language": "python",
   "name": "python3"
  },
  "language_info": {
   "codemirror_mode": {
    "name": "ipython",
    "version": 3
   },
   "file_extension": ".py",
   "mimetype": "text/x-python",
   "name": "python",
   "nbconvert_exporter": "python",
   "pygments_lexer": "ipython3",
   "version": "3.5.4"
  }
 },
 "nbformat": 4,
 "nbformat_minor": 2
}
